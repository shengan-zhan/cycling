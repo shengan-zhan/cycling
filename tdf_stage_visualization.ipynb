{
 "cells": [
  {
   "cell_type": "code",
   "execution_count": 1,
   "metadata": {},
   "outputs": [],
   "source": [
    "import pandas as pd\n",
    "import numpy as np\n",
    "import matplotlib.pyplot as plt"
   ]
  },
  {
   "cell_type": "code",
   "execution_count": 2,
   "metadata": {},
   "outputs": [],
   "source": [
    "pd.set_option('max_colwidth', 500)\n",
    "pd.set_option('display.width', 100)\n",
    "pd.set_option('display.expand_frame_repr', False)\n",
    "pd.set_option(\"display.max_rows\", 100)"
   ]
  },
  {
   "cell_type": "code",
   "execution_count": 97,
   "metadata": {},
   "outputs": [],
   "source": [
    "df_stages = pd.read_csv(r'E:\\cycling\\cycling\\data\\tdf_stages.csv',encoding='iso-8859-1',na_filter=False)"
   ]
  },
  {
   "cell_type": "markdown",
   "metadata": {},
   "source": [
    "### Clean up stage types\n",
    "Merge types into \"flat\", \"hilly\", \"mountain\", \"ITT\", \"TTT\" and \"other\""
   ]
  },
  {
   "cell_type": "code",
   "execution_count": 77,
   "metadata": {},
   "outputs": [
    {
     "data": {
      "text/plain": [
       "[u'Flat stage',\n",
       " u'Team time trial',\n",
       " u'Hilly stage',\n",
       " u'Mountain stage',\n",
       " u'Mountain',\n",
       " u'Flat',\n",
       " u'Individual time trial',\n",
       " u'Medium mountain stage',\n",
       " u'High mountain stage',\n",
       " u'Mountain time trial',\n",
       " u'Flat cobblestone stage',\n",
       " u'Mountain Stage',\n",
       " u'Transition stage',\n",
       " u'Plain stage',\n",
       " u'Intermediate stage',\n",
       " u'Stage with mountain(s)',\n",
       " u'Plain stage with cobblestones',\n",
       " u'Flat Stage',\n",
       " u'Half Stage',\n",
       " u'Stage with mountain']"
      ]
     },
     "execution_count": 77,
     "metadata": {},
     "output_type": "execute_result"
    }
   ],
   "source": [
    "df_stages.Type.unique().tolist()"
   ]
  },
  {
   "cell_type": "code",
   "execution_count": 76,
   "metadata": {},
   "outputs": [],
   "source": [
    "stage_types = ['Flat','TTT','Hilly','Mountain','Mountain','Flat','ITT','Hilly','Mountain','ITT','Flat','Mountain','Other','Flat','Hilly','Mountain','Flat','Flat','Other','Mountain']"
   ]
  },
  {
   "cell_type": "code",
   "execution_count": 98,
   "metadata": {},
   "outputs": [
    {
     "data": {
      "text/plain": [
       "{u'Flat': 'Flat',\n",
       " u'Flat Stage': 'Flat',\n",
       " u'Flat cobblestone stage': 'Flat',\n",
       " u'Flat stage': 'Flat',\n",
       " u'Half Stage': 'Other',\n",
       " u'High mountain stage': 'Mountain',\n",
       " u'Hilly stage': 'Hilly',\n",
       " u'Individual time trial': 'ITT',\n",
       " u'Intermediate stage': 'Hilly',\n",
       " u'Medium mountain stage': 'Hilly',\n",
       " u'Mountain': 'Mountain',\n",
       " u'Mountain Stage': 'Mountain',\n",
       " u'Mountain stage': 'Mountain',\n",
       " u'Mountain time trial': 'ITT',\n",
       " u'Plain stage': 'Flat',\n",
       " u'Plain stage with cobblestones': 'Flat',\n",
       " u'Stage with mountain': 'Mountain',\n",
       " u'Stage with mountain(s)': 'Mountain',\n",
       " u'Team time trial': 'TTT',\n",
       " u'Transition stage': 'Other'}"
      ]
     },
     "execution_count": 98,
     "metadata": {},
     "output_type": "execute_result"
    }
   ],
   "source": [
    "stage_types_dict = dict(zip(df_stages.Type.unique().tolist(),stage_types))\n",
    "stage_types_dict"
   ]
  },
  {
   "cell_type": "code",
   "execution_count": 99,
   "metadata": {},
   "outputs": [],
   "source": [
    "df_stages['Type_clean'] = df_stages['Type'].replace(stage_types_dict)"
   ]
  },
  {
   "cell_type": "code",
   "execution_count": 100,
   "metadata": {},
   "outputs": [],
   "source": [
    "df_stages = pd.get_dummies(df_stages,columns=['Winner_Country','Type_clean'])"
   ]
  },
  {
   "cell_type": "code",
   "execution_count": 101,
   "metadata": {},
   "outputs": [],
   "source": [
    "df_stages['Date'] = pd.to_datetime(df_stages['Date'], format='%m/%d/%Y')"
   ]
  },
  {
   "cell_type": "code",
   "execution_count": 109,
   "metadata": {},
   "outputs": [
    {
     "data": {
      "text/html": [
       "\n",
       "    <div class=\"bk-root\">\n",
       "        <a href=\"https://bokeh.pydata.org\" target=\"_blank\" class=\"bk-logo bk-logo-small bk-logo-notebook\"></a>\n",
       "        <span id=\"a565145f-7113-4584-8f5d-b73499340853\">Loading BokehJS ...</span>\n",
       "    </div>"
      ]
     },
     "metadata": {},
     "output_type": "display_data"
    },
    {
     "data": {
      "application/javascript": [
       "\n",
       "(function(root) {\n",
       "  function now() {\n",
       "    return new Date();\n",
       "  }\n",
       "\n",
       "  var force = true;\n",
       "\n",
       "  if (typeof (root._bokeh_onload_callbacks) === \"undefined\" || force === true) {\n",
       "    root._bokeh_onload_callbacks = [];\n",
       "    root._bokeh_is_loading = undefined;\n",
       "  }\n",
       "\n",
       "  var JS_MIME_TYPE = 'application/javascript';\n",
       "  var HTML_MIME_TYPE = 'text/html';\n",
       "  var EXEC_MIME_TYPE = 'application/vnd.bokehjs_exec.v0+json';\n",
       "  var CLASS_NAME = 'output_bokeh rendered_html';\n",
       "\n",
       "  /**\n",
       "   * Render data to the DOM node\n",
       "   */\n",
       "  function render(props, node) {\n",
       "    var script = document.createElement(\"script\");\n",
       "    node.appendChild(script);\n",
       "  }\n",
       "\n",
       "  /**\n",
       "   * Handle when an output is cleared or removed\n",
       "   */\n",
       "  function handleClearOutput(event, handle) {\n",
       "    var cell = handle.cell;\n",
       "\n",
       "    var id = cell.output_area._bokeh_element_id;\n",
       "    var server_id = cell.output_area._bokeh_server_id;\n",
       "    // Clean up Bokeh references\n",
       "    if (id !== undefined) {\n",
       "      Bokeh.index[id].model.document.clear();\n",
       "      delete Bokeh.index[id];\n",
       "    }\n",
       "\n",
       "    if (server_id !== undefined) {\n",
       "      // Clean up Bokeh references\n",
       "      var cmd = \"from bokeh.io.state import curstate; print(curstate().uuid_to_server['\" + server_id + \"'].get_sessions()[0].document.roots[0]._id)\";\n",
       "      cell.notebook.kernel.execute(cmd, {\n",
       "        iopub: {\n",
       "          output: function(msg) {\n",
       "            var element_id = msg.content.text.trim();\n",
       "            Bokeh.index[element_id].model.document.clear();\n",
       "            delete Bokeh.index[element_id];\n",
       "          }\n",
       "        }\n",
       "      });\n",
       "      // Destroy server and session\n",
       "      var cmd = \"import bokeh.io.notebook as ion; ion.destroy_server('\" + server_id + \"')\";\n",
       "      cell.notebook.kernel.execute(cmd);\n",
       "    }\n",
       "  }\n",
       "\n",
       "  /**\n",
       "   * Handle when a new output is added\n",
       "   */\n",
       "  function handleAddOutput(event, handle) {\n",
       "    var output_area = handle.output_area;\n",
       "    var output = handle.output;\n",
       "\n",
       "    // limit handleAddOutput to display_data with EXEC_MIME_TYPE content only\n",
       "    if ((output.output_type != \"display_data\") || (!output.data.hasOwnProperty(EXEC_MIME_TYPE))) {\n",
       "      return\n",
       "    }\n",
       "\n",
       "    var toinsert = output_area.element.find(\".\" + CLASS_NAME.split(' ')[0]);\n",
       "\n",
       "    if (output.metadata[EXEC_MIME_TYPE][\"id\"] !== undefined) {\n",
       "      toinsert[toinsert.length - 1].firstChild.textContent = output.data[JS_MIME_TYPE];\n",
       "      // store reference to embed id on output_area\n",
       "      output_area._bokeh_element_id = output.metadata[EXEC_MIME_TYPE][\"id\"];\n",
       "    }\n",
       "    if (output.metadata[EXEC_MIME_TYPE][\"server_id\"] !== undefined) {\n",
       "      var bk_div = document.createElement(\"div\");\n",
       "      bk_div.innerHTML = output.data[HTML_MIME_TYPE];\n",
       "      var script_attrs = bk_div.children[0].attributes;\n",
       "      for (var i = 0; i < script_attrs.length; i++) {\n",
       "        toinsert[toinsert.length - 1].firstChild.setAttribute(script_attrs[i].name, script_attrs[i].value);\n",
       "      }\n",
       "      // store reference to server id on output_area\n",
       "      output_area._bokeh_server_id = output.metadata[EXEC_MIME_TYPE][\"server_id\"];\n",
       "    }\n",
       "  }\n",
       "\n",
       "  function register_renderer(events, OutputArea) {\n",
       "\n",
       "    function append_mime(data, metadata, element) {\n",
       "      // create a DOM node to render to\n",
       "      var toinsert = this.create_output_subarea(\n",
       "        metadata,\n",
       "        CLASS_NAME,\n",
       "        EXEC_MIME_TYPE\n",
       "      );\n",
       "      this.keyboard_manager.register_events(toinsert);\n",
       "      // Render to node\n",
       "      var props = {data: data, metadata: metadata[EXEC_MIME_TYPE]};\n",
       "      render(props, toinsert[toinsert.length - 1]);\n",
       "      element.append(toinsert);\n",
       "      return toinsert\n",
       "    }\n",
       "\n",
       "    /* Handle when an output is cleared or removed */\n",
       "    events.on('clear_output.CodeCell', handleClearOutput);\n",
       "    events.on('delete.Cell', handleClearOutput);\n",
       "\n",
       "    /* Handle when a new output is added */\n",
       "    events.on('output_added.OutputArea', handleAddOutput);\n",
       "\n",
       "    /**\n",
       "     * Register the mime type and append_mime function with output_area\n",
       "     */\n",
       "    OutputArea.prototype.register_mime_type(EXEC_MIME_TYPE, append_mime, {\n",
       "      /* Is output safe? */\n",
       "      safe: true,\n",
       "      /* Index of renderer in `output_area.display_order` */\n",
       "      index: 0\n",
       "    });\n",
       "  }\n",
       "\n",
       "  // register the mime type if in Jupyter Notebook environment and previously unregistered\n",
       "  if (root.Jupyter !== undefined) {\n",
       "    var events = require('base/js/events');\n",
       "    var OutputArea = require('notebook/js/outputarea').OutputArea;\n",
       "\n",
       "    if (OutputArea.prototype.mime_types().indexOf(EXEC_MIME_TYPE) == -1) {\n",
       "      register_renderer(events, OutputArea);\n",
       "    }\n",
       "  }\n",
       "\n",
       "  \n",
       "  if (typeof (root._bokeh_timeout) === \"undefined\" || force === true) {\n",
       "    root._bokeh_timeout = Date.now() + 5000;\n",
       "    root._bokeh_failed_load = false;\n",
       "  }\n",
       "\n",
       "  var NB_LOAD_WARNING = {'data': {'text/html':\n",
       "     \"<div style='background-color: #fdd'>\\n\"+\n",
       "     \"<p>\\n\"+\n",
       "     \"BokehJS does not appear to have successfully loaded. If loading BokehJS from CDN, this \\n\"+\n",
       "     \"may be due to a slow or bad network connection. Possible fixes:\\n\"+\n",
       "     \"</p>\\n\"+\n",
       "     \"<ul>\\n\"+\n",
       "     \"<li>re-rerun `output_notebook()` to attempt to load from CDN again, or</li>\\n\"+\n",
       "     \"<li>use INLINE resources instead, as so:</li>\\n\"+\n",
       "     \"</ul>\\n\"+\n",
       "     \"<code>\\n\"+\n",
       "     \"from bokeh.resources import INLINE\\n\"+\n",
       "     \"output_notebook(resources=INLINE)\\n\"+\n",
       "     \"</code>\\n\"+\n",
       "     \"</div>\"}};\n",
       "\n",
       "  function display_loaded() {\n",
       "    var el = document.getElementById(\"a565145f-7113-4584-8f5d-b73499340853\");\n",
       "    if (el != null) {\n",
       "      el.textContent = \"BokehJS is loading...\";\n",
       "    }\n",
       "    if (root.Bokeh !== undefined) {\n",
       "      if (el != null) {\n",
       "        el.textContent = \"BokehJS \" + root.Bokeh.version + \" successfully loaded.\";\n",
       "      }\n",
       "    } else if (Date.now() < root._bokeh_timeout) {\n",
       "      setTimeout(display_loaded, 100)\n",
       "    }\n",
       "  }\n",
       "\n",
       "\n",
       "  function run_callbacks() {\n",
       "    try {\n",
       "      root._bokeh_onload_callbacks.forEach(function(callback) { callback() });\n",
       "    }\n",
       "    finally {\n",
       "      delete root._bokeh_onload_callbacks\n",
       "    }\n",
       "    console.info(\"Bokeh: all callbacks have finished\");\n",
       "  }\n",
       "\n",
       "  function load_libs(js_urls, callback) {\n",
       "    root._bokeh_onload_callbacks.push(callback);\n",
       "    if (root._bokeh_is_loading > 0) {\n",
       "      console.log(\"Bokeh: BokehJS is being loaded, scheduling callback at\", now());\n",
       "      return null;\n",
       "    }\n",
       "    if (js_urls == null || js_urls.length === 0) {\n",
       "      run_callbacks();\n",
       "      return null;\n",
       "    }\n",
       "    console.log(\"Bokeh: BokehJS not loaded, scheduling load and callback at\", now());\n",
       "    root._bokeh_is_loading = js_urls.length;\n",
       "    for (var i = 0; i < js_urls.length; i++) {\n",
       "      var url = js_urls[i];\n",
       "      var s = document.createElement('script');\n",
       "      s.src = url;\n",
       "      s.async = false;\n",
       "      s.onreadystatechange = s.onload = function() {\n",
       "        root._bokeh_is_loading--;\n",
       "        if (root._bokeh_is_loading === 0) {\n",
       "          console.log(\"Bokeh: all BokehJS libraries loaded\");\n",
       "          run_callbacks()\n",
       "        }\n",
       "      };\n",
       "      s.onerror = function() {\n",
       "        console.warn(\"failed to load library \" + url);\n",
       "      };\n",
       "      console.log(\"Bokeh: injecting script tag for BokehJS library: \", url);\n",
       "      document.getElementsByTagName(\"head\")[0].appendChild(s);\n",
       "    }\n",
       "  };var element = document.getElementById(\"a565145f-7113-4584-8f5d-b73499340853\");\n",
       "  if (element == null) {\n",
       "    console.log(\"Bokeh: ERROR: autoload.js configured with elementid 'a565145f-7113-4584-8f5d-b73499340853' but no matching script tag was found. \")\n",
       "    return false;\n",
       "  }\n",
       "\n",
       "  var js_urls = [\"https://cdn.pydata.org/bokeh/release/bokeh-0.12.16.min.js\", \"https://cdn.pydata.org/bokeh/release/bokeh-widgets-0.12.16.min.js\", \"https://cdn.pydata.org/bokeh/release/bokeh-tables-0.12.16.min.js\", \"https://cdn.pydata.org/bokeh/release/bokeh-gl-0.12.16.min.js\"];\n",
       "\n",
       "  var inline_js = [\n",
       "    function(Bokeh) {\n",
       "      Bokeh.set_log_level(\"info\");\n",
       "    },\n",
       "    \n",
       "    function(Bokeh) {\n",
       "      \n",
       "    },\n",
       "    function(Bokeh) {\n",
       "      console.log(\"Bokeh: injecting CSS: https://cdn.pydata.org/bokeh/release/bokeh-0.12.16.min.css\");\n",
       "      Bokeh.embed.inject_css(\"https://cdn.pydata.org/bokeh/release/bokeh-0.12.16.min.css\");\n",
       "      console.log(\"Bokeh: injecting CSS: https://cdn.pydata.org/bokeh/release/bokeh-widgets-0.12.16.min.css\");\n",
       "      Bokeh.embed.inject_css(\"https://cdn.pydata.org/bokeh/release/bokeh-widgets-0.12.16.min.css\");\n",
       "      console.log(\"Bokeh: injecting CSS: https://cdn.pydata.org/bokeh/release/bokeh-tables-0.12.16.min.css\");\n",
       "      Bokeh.embed.inject_css(\"https://cdn.pydata.org/bokeh/release/bokeh-tables-0.12.16.min.css\");\n",
       "    }\n",
       "  ];\n",
       "\n",
       "  function run_inline_js() {\n",
       "    \n",
       "    if ((root.Bokeh !== undefined) || (force === true)) {\n",
       "      for (var i = 0; i < inline_js.length; i++) {\n",
       "        inline_js[i].call(root, root.Bokeh);\n",
       "      }if (force === true) {\n",
       "        display_loaded();\n",
       "      }} else if (Date.now() < root._bokeh_timeout) {\n",
       "      setTimeout(run_inline_js, 100);\n",
       "    } else if (!root._bokeh_failed_load) {\n",
       "      console.log(\"Bokeh: BokehJS failed to load within specified timeout.\");\n",
       "      root._bokeh_failed_load = true;\n",
       "    } else if (force !== true) {\n",
       "      var cell = $(document.getElementById(\"a565145f-7113-4584-8f5d-b73499340853\")).parents('.cell').data().cell;\n",
       "      cell.output_area.append_execute_result(NB_LOAD_WARNING)\n",
       "    }\n",
       "\n",
       "  }\n",
       "\n",
       "  if (root._bokeh_is_loading === 0) {\n",
       "    console.log(\"Bokeh: BokehJS loaded, going straight to plotting\");\n",
       "    run_inline_js();\n",
       "  } else {\n",
       "    load_libs(js_urls, function() {\n",
       "      console.log(\"Bokeh: BokehJS plotting callback run at\", now());\n",
       "      run_inline_js();\n",
       "    });\n",
       "  }\n",
       "}(window));"
      ],
      "application/vnd.bokehjs_load.v0+json": "\n(function(root) {\n  function now() {\n    return new Date();\n  }\n\n  var force = true;\n\n  if (typeof (root._bokeh_onload_callbacks) === \"undefined\" || force === true) {\n    root._bokeh_onload_callbacks = [];\n    root._bokeh_is_loading = undefined;\n  }\n\n  \n\n  \n  if (typeof (root._bokeh_timeout) === \"undefined\" || force === true) {\n    root._bokeh_timeout = Date.now() + 5000;\n    root._bokeh_failed_load = false;\n  }\n\n  var NB_LOAD_WARNING = {'data': {'text/html':\n     \"<div style='background-color: #fdd'>\\n\"+\n     \"<p>\\n\"+\n     \"BokehJS does not appear to have successfully loaded. If loading BokehJS from CDN, this \\n\"+\n     \"may be due to a slow or bad network connection. Possible fixes:\\n\"+\n     \"</p>\\n\"+\n     \"<ul>\\n\"+\n     \"<li>re-rerun `output_notebook()` to attempt to load from CDN again, or</li>\\n\"+\n     \"<li>use INLINE resources instead, as so:</li>\\n\"+\n     \"</ul>\\n\"+\n     \"<code>\\n\"+\n     \"from bokeh.resources import INLINE\\n\"+\n     \"output_notebook(resources=INLINE)\\n\"+\n     \"</code>\\n\"+\n     \"</div>\"}};\n\n  function display_loaded() {\n    var el = document.getElementById(\"a565145f-7113-4584-8f5d-b73499340853\");\n    if (el != null) {\n      el.textContent = \"BokehJS is loading...\";\n    }\n    if (root.Bokeh !== undefined) {\n      if (el != null) {\n        el.textContent = \"BokehJS \" + root.Bokeh.version + \" successfully loaded.\";\n      }\n    } else if (Date.now() < root._bokeh_timeout) {\n      setTimeout(display_loaded, 100)\n    }\n  }\n\n\n  function run_callbacks() {\n    try {\n      root._bokeh_onload_callbacks.forEach(function(callback) { callback() });\n    }\n    finally {\n      delete root._bokeh_onload_callbacks\n    }\n    console.info(\"Bokeh: all callbacks have finished\");\n  }\n\n  function load_libs(js_urls, callback) {\n    root._bokeh_onload_callbacks.push(callback);\n    if (root._bokeh_is_loading > 0) {\n      console.log(\"Bokeh: BokehJS is being loaded, scheduling callback at\", now());\n      return null;\n    }\n    if (js_urls == null || js_urls.length === 0) {\n      run_callbacks();\n      return null;\n    }\n    console.log(\"Bokeh: BokehJS not loaded, scheduling load and callback at\", now());\n    root._bokeh_is_loading = js_urls.length;\n    for (var i = 0; i < js_urls.length; i++) {\n      var url = js_urls[i];\n      var s = document.createElement('script');\n      s.src = url;\n      s.async = false;\n      s.onreadystatechange = s.onload = function() {\n        root._bokeh_is_loading--;\n        if (root._bokeh_is_loading === 0) {\n          console.log(\"Bokeh: all BokehJS libraries loaded\");\n          run_callbacks()\n        }\n      };\n      s.onerror = function() {\n        console.warn(\"failed to load library \" + url);\n      };\n      console.log(\"Bokeh: injecting script tag for BokehJS library: \", url);\n      document.getElementsByTagName(\"head\")[0].appendChild(s);\n    }\n  };var element = document.getElementById(\"a565145f-7113-4584-8f5d-b73499340853\");\n  if (element == null) {\n    console.log(\"Bokeh: ERROR: autoload.js configured with elementid 'a565145f-7113-4584-8f5d-b73499340853' but no matching script tag was found. \")\n    return false;\n  }\n\n  var js_urls = [\"https://cdn.pydata.org/bokeh/release/bokeh-0.12.16.min.js\", \"https://cdn.pydata.org/bokeh/release/bokeh-widgets-0.12.16.min.js\", \"https://cdn.pydata.org/bokeh/release/bokeh-tables-0.12.16.min.js\", \"https://cdn.pydata.org/bokeh/release/bokeh-gl-0.12.16.min.js\"];\n\n  var inline_js = [\n    function(Bokeh) {\n      Bokeh.set_log_level(\"info\");\n    },\n    \n    function(Bokeh) {\n      \n    },\n    function(Bokeh) {\n      console.log(\"Bokeh: injecting CSS: https://cdn.pydata.org/bokeh/release/bokeh-0.12.16.min.css\");\n      Bokeh.embed.inject_css(\"https://cdn.pydata.org/bokeh/release/bokeh-0.12.16.min.css\");\n      console.log(\"Bokeh: injecting CSS: https://cdn.pydata.org/bokeh/release/bokeh-widgets-0.12.16.min.css\");\n      Bokeh.embed.inject_css(\"https://cdn.pydata.org/bokeh/release/bokeh-widgets-0.12.16.min.css\");\n      console.log(\"Bokeh: injecting CSS: https://cdn.pydata.org/bokeh/release/bokeh-tables-0.12.16.min.css\");\n      Bokeh.embed.inject_css(\"https://cdn.pydata.org/bokeh/release/bokeh-tables-0.12.16.min.css\");\n    }\n  ];\n\n  function run_inline_js() {\n    \n    if ((root.Bokeh !== undefined) || (force === true)) {\n      for (var i = 0; i < inline_js.length; i++) {\n        inline_js[i].call(root, root.Bokeh);\n      }if (force === true) {\n        display_loaded();\n      }} else if (Date.now() < root._bokeh_timeout) {\n      setTimeout(run_inline_js, 100);\n    } else if (!root._bokeh_failed_load) {\n      console.log(\"Bokeh: BokehJS failed to load within specified timeout.\");\n      root._bokeh_failed_load = true;\n    } else if (force !== true) {\n      var cell = $(document.getElementById(\"a565145f-7113-4584-8f5d-b73499340853\")).parents('.cell').data().cell;\n      cell.output_area.append_execute_result(NB_LOAD_WARNING)\n    }\n\n  }\n\n  if (root._bokeh_is_loading === 0) {\n    console.log(\"Bokeh: BokehJS loaded, going straight to plotting\");\n    run_inline_js();\n  } else {\n    load_libs(js_urls, function() {\n      console.log(\"Bokeh: BokehJS plotting callback run at\", now());\n      run_inline_js();\n    });\n  }\n}(window));"
     },
     "metadata": {},
     "output_type": "display_data"
    }
   ],
   "source": [
    "from bokeh.io import show, output_notebook\n",
    "from bokeh.plotting import figure\n",
    "from bokeh.models import ColumnDataSource, HoverTool\n",
    "output_notebook()"
   ]
  },
  {
   "cell_type": "code",
   "execution_count": 110,
   "metadata": {},
   "outputs": [
    {
     "data": {
      "text/html": [
       "\n",
       "<div class=\"bk-root\">\n",
       "    <div class=\"bk-plotdiv\" id=\"7df398d5-5bbc-4bfc-9d06-af8d8ea60c9b\"></div>\n",
       "</div>"
      ]
     },
     "metadata": {},
     "output_type": "display_data"
    },
    {
     "data": {
      "application/javascript": [
       "(function(root) {\n",
       "  function embed_document(root) {\n",
       "    \n",
       "  var docs_json = {\"973e1815-596a-43a2-8f97-9241745a08bd\":{\"roots\":{\"references\":[{\"attributes\":{\"plot\":null,\"text\":\"\"},\"id\":\"1083d966-f6d3-4794-932b-16483b13e949\",\"type\":\"Title\"},{\"attributes\":{\"fill_alpha\":{\"value\":0.1},\"fill_color\":{\"value\":\"#1f77b4\"},\"line_alpha\":{\"value\":0.1},\"line_color\":{\"value\":\"#1f77b4\"},\"size\":{\"units\":\"screen\",\"value\":5},\"x\":{\"field\":\"Distance\"},\"y\":{\"field\":\"ave_distance\"}},\"id\":\"07fef68c-ca40-4c7c-99dd-071d287fdfc4\",\"type\":\"Circle\"},{\"attributes\":{\"callback\":null},\"id\":\"e3c2be00-f3d1-4528-8e74-282578c06b70\",\"type\":\"DataRange1d\"},{\"attributes\":{\"plot\":{\"id\":\"47e583e6-e80b-4a5a-929e-e3def0b98b11\",\"subtype\":\"Figure\",\"type\":\"Plot\"},\"ticker\":{\"id\":\"2fc773a1-6bef-4343-9a33-769ae6d68279\",\"type\":\"BasicTicker\"}},\"id\":\"13f49d0c-5722-4f55-8f2e-295cdc711e60\",\"type\":\"Grid\"},{\"attributes\":{\"active_drag\":\"auto\",\"active_inspect\":\"auto\",\"active_scroll\":\"auto\",\"active_tap\":\"auto\",\"tools\":[{\"id\":\"4044402d-4069-42e3-a7f8-0336b41987b5\",\"type\":\"PanTool\"},{\"id\":\"24a44bf5-0af2-44ad-abd5-cc54c24c35d8\",\"type\":\"WheelZoomTool\"},{\"id\":\"7755fc3a-36a0-4bb6-8f65-5f96d50f29c2\",\"type\":\"BoxZoomTool\"},{\"id\":\"f63e50d8-e41a-4e14-9f6e-263b696480a3\",\"type\":\"SaveTool\"},{\"id\":\"d2a4b87b-7423-494f-9ceb-b08bc00195da\",\"type\":\"ResetTool\"},{\"id\":\"87f048f9-d1dd-46f4-8da3-a84f90903c88\",\"type\":\"HelpTool\"},{\"id\":\"3085fb9c-9ddb-451a-8244-edd639dedc04\",\"type\":\"HoverTool\"}]},\"id\":\"69c7bf5f-6425-4212-aeaf-1cc4ebacf053\",\"type\":\"Toolbar\"},{\"attributes\":{},\"id\":\"1d843218-8bda-4fd1-a283-9ca98a683eca\",\"type\":\"LinearScale\"},{\"attributes\":{\"callback\":null,\"data\":{\"Date\":[1903,1904,1905,1906,1907,1908,1909,1910,1911,1912,1913,1914,1919,1920,1921,1922,1923,1924,1925,1926,1927,1928,1929,1930,1931,1932,1933,1934,1935,1936,1937,1938,1939,1947,1948,1949,1950,1951,1952,1953,1954,1955,1956,1957,1958,1959,1960,1961,1962,1963,1964,1965,1966,1967,1968,1969,1970,1971,1972,1973,1974,1975,1976,1977,1978,1979,1980,1981,1982,1983,1984,1985,1986,1987,1988,1989,1990,1991,1992,1993,1994,1995,1996,1997,1998,1999,2000,2001,2002,2003,2004,2005,2006,2007,2008,2009,2010,2011,2012,2013,2014,2015,2016,2017,2018],\"Distance\":{\"__ndarray__\":\"AAAAAAD4okAAAAAAAPqiQAAAAAAAmqdAAAAAAAC/sUAAAAAAAIixQAAAAAAAkbFAAAAAAACRsUAAAAAAAH6yQAAAAAAA4LRAAAAAAADHtEAAAAAAAAy1QAAAAAAADLVAAAAAAAC4tUAAAAAAAH+1QAAAAAAAbbVAAAAAAAD9tEAAAAAAABS1QAAAAAAAMbVAAAAAAAA2tUAAAAAAAHG2QAAAAAAAjLRAAAAAAAAAtUAAAAAAAIq0QAAAAAAA0rJAAAAAAADns0AAAAAAAKixQAAAAAAALLFAAAAAAAASsUAAAAAAAPGwQAAAAAAAVrFAAAAAAABAsUAAAAAAAEmyQAAAAAAAgbBAAAAAAAAWskAAAAAAADqzQAAAAAAAyrJAAAAAAACmskAAAAAAAFSyQAAAAAAA27JAAAAAAAB/sUBmZmZmZgGzQJqZmZkZfLFAmpmZmRmvsUDNzMzMzEuyQAAAAAAA37BAAAAAAAD/sEDNzMzMzEuwQAAAAACALbFAAAAAAICxsEAAAAAAAC6wQAAAAAAAhLFAzczMzMzZr0AAAAAAAOewQAAAAABgrLJAzczMzMxMskAAAAAAABawQM3MzMzMELFAZ2ZmZmYBrEA0MzMzMw2uQDQzMzMzNrBAAAAAAAAKsEAAAAAAAD6vQAAAAAAAbq9AAAAAAAAFsEAAAAAAANyvQAAAAAAAEK1AAAAAAADWrkAAAAAAAF6tQAAAAAAAAqxAAAAAAAAorkAAAAAAAGqvQAAAAAAAC7BAzMzMzMz6r0AAAAAAAFawQAAAAAAAjKlAmpmZmZmqqUCamZmZmZeqQM3MzMzMlK5AAAAAAAAOr0CamZmZmQStQGZmZmZmFa9AmpmZmZm2q0DNzMzMzGmtQJqZmZmZz65AMzMzMzNKrkCamZmZmdWsQAAAAAAAnaxAZmZmZmb+qkAAAAAAAJupQAAAAAAAx6pAMzMzMzN+qkAAAAAAABGsQDMzMzMzkqxAzczMzMzjq0AAAAAAAM+rQAAAAAAAB6tAzczMzMxzrEAAAAAAAMyqQM3MzMzMUatAAAAAAACXqkAAAAAAAJmsQJqZmZmZQKpAAAAAAACSq0AAAAAAAKirQAAAAAAALqpA\",\"dtype\":\"float64\",\"shape\":[105]},\"Type_clean_Flat\":{\"__ndarray__\":\"BQUJCwoKCgkICAgICQoKCgoJDA0DAg0PDw0MDg0OEhUSDg0ODgwMDQ4ODQ4ODAwLEA0ODA4NEAoPCwoLDw0JDA4MDg0LCgoLEAwLCgoMCgwLCQgLDAsLDAoKCggKCQoKCgoJCAkHCQgI\",\"dtype\":\"uint8\",\"shape\":[105]},\"Type_clean_Hilly\":{\"__ndarray__\":\"AAAAAAAAAAAAAAAAAAAAAAAAAAAAAAAAAAAAAAAAAAAAAAAAAAAAAAAAAAAAAAAAAAAAAAAAAAAAAAMAAAAAAAMBAQIBBAQDAAMDAQMDBgABAwcDAgMCAQIAAwUDAwABAwMEAwUFAwYF\",\"dtype\":\"uint8\",\"shape\":[105]},\"Type_clean_ITT\":{\"__ndarray__\":\"AAAAAAAAAAAAAAAAAAAAAAAAAAAAAAAAAAAAAQYFAQIFAQECAgICAQEBAgIDAwICAwIDAwICAgQFAgMEAwQEBQQFBAQEBQQEAwQEBAQDAwMDAwMDAwMCAwMDAwIDAwICAgEDAgEBAgIB\",\"dtype\":\"uint8\",\"shape\":[105]},\"Type_clean_Mountain\":{\"__ndarray__\":\"AQECAgQEBAYHBwcHBgUFBQUGBgQFBQYGCQgLCQgICQYFBgcFBgoJCAkHCAcHBwgJBAcHCAgJBwsICwgLCAgICgMFBAQFAwUFBAYEBgQEAgUGBQQFBQQFBAUHBAUFBgUHBgYFBwYHBwUG\",\"dtype\":\"uint8\",\"shape\":[105]},\"Type_clean_Other\":{\"__ndarray__\":\"AAAAAAAAAAAAAAAAAAAAAAAAAAAAAAAAAAAAAAAAAAAAAAAAAAAAAAAAAAAAAAAAAAAAAAAAAAAAAAAAAAAFAAAAAAAAAAAAAAAAAAAAAAAAAAAAAAAAAAAAAAAAAAQAAAAAAAAAAAAA\",\"dtype\":\"uint8\",\"shape\":[105]},\"Type_clean_TTT\":{\"__ndarray__\":\"AAAAAAAAAAAAAAAAAAAAAAAAAAAQDwMAAAAAAAAAAwAAAAAAAAAAAAEBAAEAAAAAAQEBAQEBAQEBAQEBAQABAQECAgICAQEBAQEBAQEBAQEBAQAAAAABAQEBAQEAAAABAAEAAQABAAAB\",\"dtype\":\"uint8\",\"shape\":[105]},\"Winner_Country_\":{\"__ndarray__\":\"AAAAAAAAAAAAAAAAAAAAAAAAAAAAAAAAAAAAAAAAAAAAAAAAAAAAAAEBAAEAAAAAAQEBAQEBAQEBAQEBAQABAgICAgICAQEBAQEBAQEBAQEBAgAAAQABAQEAAAEAAAABAAEAAQABAAAB\",\"dtype\":\"uint8\",\"shape\":[105]},\"Winner_Country_ FRA\":{\"__ndarray__\":\"AAAAAAEAAAAAAAAAAAAAAAAAAAAAAAAAAAAAAAAAAAAAAAAAAAAAAAAAAAAAAAAAAAAAAAAAAAAAAAAAAAAAAAAAAAAAAAAAAAAAAAAAAAAAAAAAAAAAAAAAAAAAAAAAAAAAAAAAAAAA\",\"dtype\":\"uint8\",\"shape\":[105]},\"Winner_Country_AUS\":{\"__ndarray__\":\"AAAAAAAAAAAAAAAAAAAAAAAAAAAAAAAAAAAAAAAAAAAAAAAAAAAAAAAAAAAAAAAAAAAAAAAAAAAAAAAAAAAAAAAAAAABAAAAAAAAAAABAAAAAAABAQEAAAMCAwMDAgEAAAEAAQEBAQIA\",\"dtype\":\"uint8\",\"shape\":[105]},\"Winner_Country_AUT\":{\"__ndarray__\":\"AAAAAAAAAAAAAAAAAAAAAAAAAAAAAAAAAwAAAAAAAAAAAAAAAAAAAAAAAAAAAAAAAAAAAAAAAAAAAAAAAAAAAAAAAAAAAAAAAAAAAAAAAAAAAAAAAAAAAAAAAAEAAAAAAAAAAAAAAAAA\",\"dtype\":\"uint8\",\"shape\":[105]},\"Winner_Country_BEL\":{\"__ndarray__\":\"AAAAAAAAAQABBQoEAgwJCAIECAwPBAkDBgYJAQgJCgwHAgQFAgQDAQQDBAECAQQGBwoHBwgFCQ0NCg4GDgsMBQUEBQoFAwcGBQIAAQIBAgIAAQAABAQCAwAAAgIAAwEAAAIAAQABAgAA\",\"dtype\":\"uint8\",\"shape\":[105]},\"Winner_Country_BRA\":{\"__ndarray__\":\"AAAAAAAAAAAAAAAAAAAAAAAAAAAAAAAAAAAAAAAAAAAAAAAAAAAAAAAAAAAAAAAAAAAAAAAAAAAAAAAAAAAAAAAAAAAAAAAAAAAAAAABAAAAAAAAAAAAAAAAAAAAAAAAAAAAAAAAAAAA\",\"dtype\":\"uint8\",\"shape\":[105]},\"Winner_Country_CAN\":{\"__ndarray__\":\"AAAAAAAAAAAAAAAAAAAAAAAAAAAAAAAAAAAAAAAAAAAAAAAAAAAAAAAAAAAAAAAAAAAAAAAAAAAAAAAAAAAAAAAAAAAAAAAAAAABAAAAAAAAAAAAAAAAAAAAAAAAAAAAAAAAAAAAAAAA\",\"dtype\":\"uint8\",\"shape\":[105]},\"Winner_Country_COL\":{\"__ndarray__\":\"AAAAAAAAAAAAAAAAAAAAAAAAAAAAAAAAAAAAAAAAAAAAAAAAAAAAAAAAAAAAAAAAAAAAAAAAAAAAAAAAAAAAAAAAAAAAAAEDAAABAAAAAAEBAAEAAAABAQIAAAAAAQAAAAAAAQAAAQED\",\"dtype\":\"uint8\",\"shape\":[105]},\"Winner_Country_CZE\":{\"__ndarray__\":\"AAAAAAAAAAAAAAAAAAAAAAAAAAAAAAAAAAAAAAAAAAAAAAAAAAAAAAAAAAAAAAAAAAAAAAAAAAAAAAAAAAAAAAAAAAAAAAAAAAAAAAAAAAAAAAAAAQAAAQAAAAAAAAAAAAAAAAABAAAA\",\"dtype\":\"uint8\",\"shape\":[105]},\"Winner_Country_DEN\":{\"__ndarray__\":\"AAAAAAAAAAAAAAAAAAAAAAAAAAAAAAAAAAAAAAAAAAAAAAAAAAAAAAAAAAAAAAAAAAAAAAAAAAABAAAAAAAAAAAAAAAAAQABAAABAAAAAAIDAAMAAAAAAAABAAEBAgABAAAAAAAAAAAA\",\"dtype\":\"uint8\",\"shape\":[105]},\"Winner_Country_DNK\":{\"__ndarray__\":\"AAAAAAAAAAAAAAAAAAAAAAAAAAAAAAAAAAAAAAAAAAAAAAAAAAAAAAAAAAAAAAAAAAAAAAAAAAAAAAAAAAAAAAAAAAAAAAAAAAAAAAAAAAAAAAAAAAAAAAAAAAAAAAAAAAAAAAAAAAAB\",\"dtype\":\"uint8\",\"shape\":[105]},\"Winner_Country_ESP\":{\"__ndarray__\":\"AAAAAAAAAAAAAAAAAAAAAAAAAAAAAAEAAAAAAAABAgAAAAAAAAIAAQACAgACAQEAAQIEBAICAQECBAAIAQECAQEAAAAAAQECBQQDAQMCBAICAgABAAMCAQEEAgMEAQYEAQICAAADAQAB\",\"dtype\":\"uint8\",\"shape\":[105]},\"Winner_Country_EST\":{\"__ndarray__\":\"AAAAAAAAAAAAAAAAAAAAAAAAAAAAAAAAAAAAAAAAAAAAAAAAAAAAAAAAAAAAAAAAAAAAAAAAAAAAAAAAAAAAAAAAAAAAAAAAAAAAAAAAAAAAAAAAAAEAAQEAAQAAAAAAAAAAAAAAAAAA\",\"dtype\":\"uint8\",\"shape\":[105]},\"Winner_Country_FRA\":{\"__ndarray__\":\"BQYLDQ0KBwsMCAIHCwMFBgwEAQAGDQoNCAcJFA0NCQcRDAYICQYJCg8JCBAJDAsMBwcIAgIICgMFBAcGBwMDCAcKBwYGCAsFBQcCAwMFBgEEAwQGAQACAwICAwEDAgMEBgEFAQIDAQUD\",\"dtype\":\"uint8\",\"shape\":[105]},\"Winner_Country_FRG\":{\"__ndarray__\":\"AAAAAAAAAAAAAAAAAAAAAAAAAAAAAAAAAAAAAAAAAAAAAAAAAAAAAAAAAAAAAAAAAwAAAAMBAAABAAAAAAAABgAAAAAAAAAAAAAAAAAAAAAAAAAAAAAAAAAAAAAAAAAAAAAAAAAAAAAA\",\"dtype\":\"uint8\",\"shape\":[105]},\"Winner_Country_GBR\":{\"__ndarray__\":\"AAAAAAAAAAAAAAAAAAAAAAAAAAAAAAAAAAAAAAAAAAAAAAAAAAAAAAAAAAABAQAAAAAAAQACAQIAAAADAQEAAAAAAAAAAQEAAAABAQAAAAABAQABAQABAAEBAAAAAAQGBQUHBQADBwEC\",\"dtype\":\"uint8\",\"shape\":[105]},\"Winner_Country_GDR\":{\"__ndarray__\":\"AAAAAAAAAAAAAAAAAAAAAAAAAAAAAAAAAAAAAAAAAAAAAAAAAAAAAAAAAAAAAAAAAAAAAAAAAAAAAAAAAAAAAAAAAAAAAAAAAAAAAAEAAAAAAAAAAAAAAAAAAAAAAAAAAAAAAAAAAAAA\",\"dtype\":\"uint8\",\"shape\":[105]},\"Winner_Country_GER\":{\"__ndarray__\":\"AAAAAAAAAAAAAAAAAAAAAAAAAAAAAAAAAAEAAAAAAwEAAAAAAAAAAAAAAAAAAAAAAAABAAAAAAEAAAAAAAAAAAEBAAAAAAAAAAEBAAAAAQEAAgMFBAACBAEBAAACAQEBAAIDBgcGAgUB\",\"dtype\":\"uint8\",\"shape\":[105]},\"Winner_Country_IRE\":{\"__ndarray__\":\"AAAAAAAAAAAAAAAAAAAAAAAAAAAAAAAAAAAAAAAAAAAAAAAAAAAAAAAAAAAAAAAAAAAAAAAAAAAAAAAAAAAAAAEAAgEBAAABAAEAAQAAAQAAAAAAAAAAAAAAAAAAAAAAAAAAAAAAAAAA\",\"dtype\":\"uint8\",\"shape\":[105]},\"Winner_Country_IRL\":{\"__ndarray__\":\"AAAAAAAAAAAAAAAAAAAAAAAAAAAAAAAAAAAAAAAAAAAAAAAAAAAAAAAAAAAAAAAAAAEAAAAAAAAAAAAAAAAAAAAAAAAAAAAAAAAAAAAAAAAAAAAAAAAAAAAAAAAAAAAAAAAAAQAAAAAB\",\"dtype\":\"uint8\",\"shape\":[105]},\"Winner_Country_ITA\":{\"__ndarray__\":\"AAAAAAAAAAEAAgEAAgABAQEFBQEAAAAFBwcFAwYAAwUABAsGBgQHAwACBgYFBAQDBAEABQQEAgMFAwEAAQQDAQABAAAAAQAAAwAEAgUFAwMEBQMHBgcFAAEFAgMBAwAAAgAAAQUBAAEA\",\"dtype\":\"uint8\",\"shape\":[105]},\"Winner_Country_KAZ\":{\"__ndarray__\":\"AAAAAAAAAAAAAAAAAAAAAAAAAAAAAAAAAAAAAAAAAAAAAAAAAAAAAAAAAAAAAAAAAAAAAAAAAAAAAAAAAAAAAAAAAAAAAAAAAAAAAAAAAAAAAAAAAAAAAAABAAIAAAAAAQAAAAAAAAAA\",\"dtype\":\"uint8\",\"shape\":[105]},\"Winner_Country_LAT\":{\"__ndarray__\":\"AAAAAAAAAAAAAAAAAAAAAAAAAAAAAAAAAAAAAAAAAAAAAAAAAAAAAAAAAAAAAAAAAAAAAAAAAAAAAAAAAAAAAAAAAAAAAAAAAAAAAAAAAAACAAAAAAAAAAAAAAAAAAAAAAAAAAAAAAAA\",\"dtype\":\"uint8\",\"shape\":[105]},\"Winner_Country_LTU\":{\"__ndarray__\":\"AAAAAAAAAAAAAAAAAAAAAAAAAAAAAAAAAAAAAAAAAAAAAAAAAAAAAAAAAAAAAAAAAAAAAAAAAAAAAAAAAAAAAAAAAAAAAAAAAAAAAAAAAAAAAAAAAAAAAAAAAAAAAAAAAAAAAAEAAAAA\",\"dtype\":\"uint8\",\"shape\":[105]},\"Winner_Country_LUX\":{\"__ndarray__\":\"AAAAAAAEBgMCAAICAAAAAAACBAQDBQIAAAAAAAACAQECAAABAgEBAAADAwAEAQABAAAAAAEAAAAAAAAAAAAAAAAAAAAAAAAAAAAAAAAAAAAAAAAAAAAAAAAAAAABAQEBAgEAAAAAAAAA\",\"dtype\":\"uint8\",\"shape\":[105]},\"Winner_Country_MEX\":{\"__ndarray__\":\"AAAAAAAAAAAAAAAAAAAAAAAAAAAAAAAAAAAAAAAAAAAAAAAAAAAAAAAAAAAAAAAAAAAAAAAAAAAAAAAAAAAAAAAAAAAAAAAAAAAAAQEAAAAAAAAAAAAAAAAAAAAAAAAAAAAAAAAAAAAA\",\"dtype\":\"uint8\",\"shape\":[105]},\"Winner_Country_NED\":{\"__ndarray__\":\"AAAAAAAAAAAAAAAAAAAAAAAAAAAAAAAAAAAAAAABAAMBAAAAAAECBQMDAAABAAAAAQEEBAQBAgABAwICAgUGBQgGCQUFBQEEAQYHBgUCAgABAQMBAgAEAQIBAAEAAAAAAAAAAAEAAgID\",\"dtype\":\"uint8\",\"shape\":[105]},\"Winner_Country_NOR\":{\"__ndarray__\":\"AAAAAAAAAAAAAAAAAAAAAAAAAAAAAAAAAAAAAAAAAAAAAAAAAAAAAAAAAAAAAAAAAAAAAAAAAAAAAAAAAAAAAAAAAAAAAAAAAAEAAAAAAAAAAAAAAAAAAAEAAQACAQIBAQQAAAIAAAEB\",\"dtype\":\"uint8\",\"shape\":[105]},\"Winner_Country_POL\":{\"__ndarray__\":\"AAAAAAAAAAAAAAAAAAAAAAAAAAAAAAAAAAAAAAAAAAAAAAAAAAAAAAAAAAAAAAAAAAAAAAAAAAAAAAAAAAAAAAAAAAAAAAAAAAAAAAAAAAEAAAAAAAAAAAAAAAAAAAAAAAAAAAIBAAEA\",\"dtype\":\"uint8\",\"shape\":[105]},\"Winner_Country_POR\":{\"__ndarray__\":\"AAAAAAAAAAAAAAAAAAAAAAAAAAAAAAAAAAAAAAAAAAAAAAAAAAAAAAAAAAAAAAAAAAAAAAAAAAIAAAABAAAAAAABAAAAAAEAAAEBAQAAAAAAAAAAAAAAAAAAAAAAAAAAAQEAAgAAAAAA\",\"dtype\":\"uint8\",\"shape\":[105]},\"Winner_Country_RSA\":{\"__ndarray__\":\"AAAAAAAAAAAAAAAAAAAAAAAAAAAAAAAAAAAAAAAAAAAAAAAAAAAAAAAAAAAAAAAAAAAAAAAAAAAAAAAAAAAAAAAAAAAAAAAAAAAAAAAAAAAAAAAAAAAAAAAAAAAAAQAAAAAAAAAAAAAA\",\"dtype\":\"uint8\",\"shape\":[105]},\"Winner_Country_RUS\":{\"__ndarray__\":\"AAAAAAAAAAAAAAAAAAAAAAAAAAAAAAAAAAAAAAAAAAAAAAAAAAAAAAAAAAAAAAAAAAAAAAAAAAAAAAAAAAAAAAAAAAAAAAAAAAAAAAAAAAAAAAEAAAEAAQAAAAABAAEBAAAAAAAAAQAA\",\"dtype\":\"uint8\",\"shape\":[105]},\"Winner_Country_SLO\":{\"__ndarray__\":\"AAAAAAAAAAAAAAAAAAAAAAAAAAAAAAAAAAAAAAAAAAAAAAAAAAAAAAAAAAAAAAAAAAAAAAAAAAAAAAAAAAAAAAAAAAAAAAAAAAAAAAAAAAAAAAAAAAAAAAAAAAAAAAAAAAAAAAAAAAEB\",\"dtype\":\"uint8\",\"shape\":[105]},\"Winner_Country_SUI\":{\"__ndarray__\":\"AQAAAAAAAAAAAAACAAAAAAAAAAAAAAAAAAAAAAABAwABAwABAwYBAgIAAAAAAgIAAAAAAAABAAAAAAAAAAAAAAAAAAEDAgAAAgAAAQAAAQMAAQMAAAAAAAEAAQAAAgEBAgABAAAAAAAA\",\"dtype\":\"uint8\",\"shape\":[105]},\"Winner_Country_SVK\":{\"__ndarray__\":\"AAAAAAAAAAAAAAAAAAAAAAAAAAAAAAAAAAAAAAAAAAAAAAAAAAAAAAAAAAAAAAAAAAAAAAAAAAAAAAAAAAAAAAAAAAAAAAAAAAAAAAAAAAABAAAAAAAAAAAAAAAAAAAAAAADAQAAAwED\",\"dtype\":\"uint8\",\"shape\":[105]},\"Winner_Country_SWE\":{\"__ndarray__\":\"AAAAAAAAAAAAAAAAAAAAAAAAAAAAAAAAAAAAAAAAAAAAAAAAAAAAAAAAAAAAAAAAAAAAAAAAAAAAAAAAAAAAAAAAAAAAAAAAAAAAAAAAAAAAAAAAAQAAAAAAAAAAAAAAAAAAAAAAAAAA\",\"dtype\":\"uint8\",\"shape\":[105]},\"Winner_Country_UKR\":{\"__ndarray__\":\"AAAAAAAAAAAAAAAAAAAAAAAAAAAAAAAAAAAAAAAAAAAAAAAAAAAAAAAAAAAAAAAAAAAAAAAAAAAAAAAAAAAAAAAAAAAAAAAAAAAAAAAAAAAAAQAAAAAAAAAAAAADAAAAAAAAAAAAAAAA\",\"dtype\":\"uint8\",\"shape\":[105]},\"Winner_Country_URS\":{\"__ndarray__\":\"AAAAAAAAAAAAAAAAAAAAAAAAAAAAAAAAAAAAAAAAAAAAAAAAAAAAAAAAAAAAAAAAAAAAAAAAAAAAAAAAAAAAAAAAAAAAAAAAAAAAAAEFAAAAAAAAAAAAAAAAAAAAAAAAAAAAAAAAAAAA\",\"dtype\":\"uint8\",\"shape\":[105]},\"Winner_Country_USA\":{\"__ndarray__\":\"AAAAAAAAAAAAAAAAAAAAAAAAAAAAAAAAAAAAAAAAAAAAAAAAAAAAAAAAAAAAAAAAAAAAAAAAAAAAAAAAAAAAAAAAAAAAAAABAgIAAwAAAQEAAQAAAAQBBAQDBgMAAQAAAAEAAAAAAAAA\",\"dtype\":\"uint8\",\"shape\":[105]},\"Winner_Country_UZB\":{\"__ndarray__\":\"AAAAAAAAAAAAAAAAAAAAAAAAAAAAAAAAAAAAAAAAAAAAAAAAAAAAAAAAAAAAAAAAAAAAAAAAAAAAAAAAAAAAAAAAAAAAAAAAAAAAAAAAAAMCAQEAAAAAAAAAAAAAAAAAAAAAAAAAAAAA\",\"dtype\":\"uint8\",\"shape\":[105]},\"ave_distance\":{\"__ndarray__\":\"q6qqqqpKeUBVVVVVVU15QLrooosuKnFAdmIndmLXdUCSJEmSJAl0QLdt27ZtE3RAt23btm0TdECamZmZmblzQERERERERHZAmpmZmZkpdkAzMzMzM3N2QDMzMzMzc3ZAq6qqqqoqd0De3d3d3e12QKuqqqqq2nZAMzMzMzNjdkC8u7u7u3t2QKuqqqqqmnZAq6qqqqrackAPDw8PDx91QFVVVVVVZWtAjC666KKLbkAAAAAAAOBtQNu2bdu2rWxAVVVVVVWJakB6nud5nudqQBaykIUs5GdAq6qqqqrCZkBCewntJRRkQL6E9hLai2RAzjnnnHPOYUDd0wjLPS1kQEmSJEmS3GJA9DzP8zyPa0DDMAzDMExtQBiGYRiGoWxAAAAAAAAga0AAAAAAAHBoQOpNb3rTO2pAo4suuuhyaUDAyqFFtlNoQANFWw2eU2hAfRj365KaaEAREREREWVoQKuqqqqqfmZA6aKLLrq4aEDkKUGeErRnQHTRRRdd/GhAAAAAAABCZkBkIQtZyIJmQOxRuB6Fa2ZA3t3d3d07ZUDD9Shcj6JlQHsUrkfh5mdAX+iFXuiFZkDFTuzETsxjQOtLBa2+1GJAI9v5fmrsYUDP91PjpTtjQG3BFmzBNmNAJrSX0F4CY0AfhetRuP5jQAAAAAAAoGJAbtu2bdtOYkCkcD0K12NkQJqZmZmZmWJAXI/C9Si8Y0DsUbgehctiQOpNb3rTe2NAOL3pTW/6ZEBVVVVVVfFkQAAAAAAAZGVA3d3d3d1RZUCxEzuxExtkQMhCFrKQxWFAE+QpQZ6qYkCHtW9Y+1ZjQN2vSyofRmVARhdddNGVZkC+4iu+4htmQDMzMzMzm2ZA12iN1mgdZUCsfcPaN2RlQFn7hrVvaGZA37D2DWsHZkCCEziBE/hlQM/zPM/zzGVAERERERGRZEAlSZIkSYJjQG7btm3bZmRA9mM/9mMvZEAlSZIkSWJlQEu5lEu5xGVA/tiP/dg/ZUAAAAAAADBlQHqe53mel2RA2Y/92I+tZUCrqqqqqmpkQAqcwAmc0GRAJUmSJElCZECe53me58llQAh1UAd1AGRAGIZhGIYBZUAlSZIkSRJlQCVJkiRJ8mNA\",\"dtype\":\"float64\",\"shape\":[105]},\"num_stages\":[6,6,11,13,14,14,14,15,15,15,15,15,15,15,15,15,15,15,18,17,24,22,22,21,24,21,23,24,27,27,31,29,28,21,21,21,22,24,23,22,25,23,23,24,24,22,22,22,24,23,25,24,25,25,26,26,29,25,25,27,27,25,27,28,25,25,25,25,23,23,24,24,24,26,23,22,22,23,22,21,22,21,22,22,22,21,21,21,21,21,21,21,21,21,21,21,21,21,21,21,21,21,21,21,21]},\"selected\":{\"id\":\"01aa3080-b983-4aa4-95b0-1757b7b4712d\",\"type\":\"Selection\"},\"selection_policy\":{\"id\":\"a79d2f4d-bc3b-4313-94eb-23a4a40704db\",\"type\":\"UnionRenderers\"}},\"id\":\"83d79469-e913-46ea-be37-6fc898764386\",\"type\":\"ColumnDataSource\"},{\"attributes\":{},\"id\":\"24a44bf5-0af2-44ad-abd5-cc54c24c35d8\",\"type\":\"WheelZoomTool\"},{\"attributes\":{\"callback\":null},\"id\":\"3dce300d-1e1a-4614-8d0e-e768fd3708d8\",\"type\":\"DataRange1d\"},{\"attributes\":{},\"id\":\"d2a4b87b-7423-494f-9ceb-b08bc00195da\",\"type\":\"ResetTool\"},{\"attributes\":{\"axis_label\":\"Total distance (km)\",\"formatter\":{\"id\":\"6bad41ae-1753-4538-8146-8e921c569971\",\"type\":\"BasicTickFormatter\"},\"plot\":{\"id\":\"47e583e6-e80b-4a5a-929e-e3def0b98b11\",\"subtype\":\"Figure\",\"type\":\"Plot\"},\"ticker\":{\"id\":\"2fc773a1-6bef-4343-9a33-769ae6d68279\",\"type\":\"BasicTicker\"}},\"id\":\"48f2ef67-6b7b-48b2-b3f3-c56f61a5257c\",\"type\":\"LinearAxis\"},{\"attributes\":{\"source\":{\"id\":\"83d79469-e913-46ea-be37-6fc898764386\",\"type\":\"ColumnDataSource\"}},\"id\":\"bb352ee6-3f55-4c70-b4df-c57b7a1e47f6\",\"type\":\"CDSView\"},{\"attributes\":{},\"id\":\"f63e50d8-e41a-4e14-9f6e-263b696480a3\",\"type\":\"SaveTool\"},{\"attributes\":{\"overlay\":{\"id\":\"06c7fc63-a9c6-42a2-87ae-ca3a495d29c9\",\"type\":\"BoxAnnotation\"}},\"id\":\"7755fc3a-36a0-4bb6-8f65-5f96d50f29c2\",\"type\":\"BoxZoomTool\"},{\"attributes\":{},\"id\":\"01aa3080-b983-4aa4-95b0-1757b7b4712d\",\"type\":\"Selection\"},{\"attributes\":{\"callback\":null,\"renderers\":\"auto\",\"tooltips\":[[\"Year\",\"@Date\"]]},\"id\":\"3085fb9c-9ddb-451a-8244-edd639dedc04\",\"type\":\"HoverTool\"},{\"attributes\":{},\"id\":\"6bad41ae-1753-4538-8146-8e921c569971\",\"type\":\"BasicTickFormatter\"},{\"attributes\":{},\"id\":\"2fc773a1-6bef-4343-9a33-769ae6d68279\",\"type\":\"BasicTicker\"},{\"attributes\":{},\"id\":\"4044402d-4069-42e3-a7f8-0336b41987b5\",\"type\":\"PanTool\"},{\"attributes\":{\"dimension\":1,\"plot\":{\"id\":\"47e583e6-e80b-4a5a-929e-e3def0b98b11\",\"subtype\":\"Figure\",\"type\":\"Plot\"},\"ticker\":{\"id\":\"f3386840-4c71-4b66-8284-68cbdbd633d7\",\"type\":\"BasicTicker\"}},\"id\":\"43f904de-a2f2-4380-95d8-7b5aa5adcaa8\",\"type\":\"Grid\"},{\"attributes\":{},\"id\":\"6ddfd0b4-a3b6-46ec-8b05-48ab399ed05c\",\"type\":\"BasicTickFormatter\"},{\"attributes\":{\"below\":[{\"id\":\"48f2ef67-6b7b-48b2-b3f3-c56f61a5257c\",\"type\":\"LinearAxis\"}],\"left\":[{\"id\":\"16f429cb-5545-4688-9f89-275f88c0c0a0\",\"type\":\"LinearAxis\"}],\"renderers\":[{\"id\":\"48f2ef67-6b7b-48b2-b3f3-c56f61a5257c\",\"type\":\"LinearAxis\"},{\"id\":\"13f49d0c-5722-4f55-8f2e-295cdc711e60\",\"type\":\"Grid\"},{\"id\":\"16f429cb-5545-4688-9f89-275f88c0c0a0\",\"type\":\"LinearAxis\"},{\"id\":\"43f904de-a2f2-4380-95d8-7b5aa5adcaa8\",\"type\":\"Grid\"},{\"id\":\"06c7fc63-a9c6-42a2-87ae-ca3a495d29c9\",\"type\":\"BoxAnnotation\"},{\"id\":\"6c0403ff-967b-42b9-a14b-907171b9fc25\",\"type\":\"GlyphRenderer\"}],\"title\":{\"id\":\"1083d966-f6d3-4794-932b-16483b13e949\",\"type\":\"Title\"},\"toolbar\":{\"id\":\"69c7bf5f-6425-4212-aeaf-1cc4ebacf053\",\"type\":\"Toolbar\"},\"x_range\":{\"id\":\"e3c2be00-f3d1-4528-8e74-282578c06b70\",\"type\":\"DataRange1d\"},\"x_scale\":{\"id\":\"1d843218-8bda-4fd1-a283-9ca98a683eca\",\"type\":\"LinearScale\"},\"y_range\":{\"id\":\"3dce300d-1e1a-4614-8d0e-e768fd3708d8\",\"type\":\"DataRange1d\"},\"y_scale\":{\"id\":\"ab54b910-1f9f-47b9-98e3-1f90f4358a09\",\"type\":\"LinearScale\"}},\"id\":\"47e583e6-e80b-4a5a-929e-e3def0b98b11\",\"subtype\":\"Figure\",\"type\":\"Plot\"},{\"attributes\":{},\"id\":\"f3386840-4c71-4b66-8284-68cbdbd633d7\",\"type\":\"BasicTicker\"},{\"attributes\":{},\"id\":\"87f048f9-d1dd-46f4-8da3-a84f90903c88\",\"type\":\"HelpTool\"},{\"attributes\":{\"axis_label\":\"Average distance per stage (km)\",\"formatter\":{\"id\":\"6ddfd0b4-a3b6-46ec-8b05-48ab399ed05c\",\"type\":\"BasicTickFormatter\"},\"plot\":{\"id\":\"47e583e6-e80b-4a5a-929e-e3def0b98b11\",\"subtype\":\"Figure\",\"type\":\"Plot\"},\"ticker\":{\"id\":\"f3386840-4c71-4b66-8284-68cbdbd633d7\",\"type\":\"BasicTicker\"}},\"id\":\"16f429cb-5545-4688-9f89-275f88c0c0a0\",\"type\":\"LinearAxis\"},{\"attributes\":{\"bottom_units\":\"screen\",\"fill_alpha\":{\"value\":0.5},\"fill_color\":{\"value\":\"lightgrey\"},\"left_units\":\"screen\",\"level\":\"overlay\",\"line_alpha\":{\"value\":1.0},\"line_color\":{\"value\":\"black\"},\"line_dash\":[4,4],\"line_width\":{\"value\":2},\"plot\":null,\"render_mode\":\"css\",\"right_units\":\"screen\",\"top_units\":\"screen\"},\"id\":\"06c7fc63-a9c6-42a2-87ae-ca3a495d29c9\",\"type\":\"BoxAnnotation\"},{\"attributes\":{},\"id\":\"ab54b910-1f9f-47b9-98e3-1f90f4358a09\",\"type\":\"LinearScale\"},{\"attributes\":{},\"id\":\"a79d2f4d-bc3b-4313-94eb-23a4a40704db\",\"type\":\"UnionRenderers\"},{\"attributes\":{\"fill_color\":{\"value\":\"#1f77b4\"},\"line_color\":{\"value\":\"#1f77b4\"},\"size\":{\"units\":\"screen\",\"value\":5},\"x\":{\"field\":\"Distance\"},\"y\":{\"field\":\"ave_distance\"}},\"id\":\"47fb400a-3eb3-4a6d-887e-339d1f4f3330\",\"type\":\"Circle\"},{\"attributes\":{\"data_source\":{\"id\":\"83d79469-e913-46ea-be37-6fc898764386\",\"type\":\"ColumnDataSource\"},\"glyph\":{\"id\":\"47fb400a-3eb3-4a6d-887e-339d1f4f3330\",\"type\":\"Circle\"},\"hover_glyph\":null,\"muted_glyph\":null,\"nonselection_glyph\":{\"id\":\"07fef68c-ca40-4c7c-99dd-071d287fdfc4\",\"type\":\"Circle\"},\"selection_glyph\":null,\"view\":{\"id\":\"bb352ee6-3f55-4c70-b4df-c57b7a1e47f6\",\"type\":\"CDSView\"}},\"id\":\"6c0403ff-967b-42b9-a14b-907171b9fc25\",\"type\":\"GlyphRenderer\"}],\"root_ids\":[\"47e583e6-e80b-4a5a-929e-e3def0b98b11\"]},\"title\":\"Bokeh Application\",\"version\":\"0.12.16\"}};\n",
       "  var render_items = [{\"docid\":\"973e1815-596a-43a2-8f97-9241745a08bd\",\"elementid\":\"7df398d5-5bbc-4bfc-9d06-af8d8ea60c9b\",\"modelid\":\"47e583e6-e80b-4a5a-929e-e3def0b98b11\"}];\n",
       "  root.Bokeh.embed.embed_items_notebook(docs_json, render_items);\n",
       "\n",
       "  }\n",
       "  if (root.Bokeh !== undefined) {\n",
       "    embed_document(root);\n",
       "  } else {\n",
       "    var attempts = 0;\n",
       "    var timer = setInterval(function(root) {\n",
       "      if (root.Bokeh !== undefined) {\n",
       "        embed_document(root);\n",
       "        clearInterval(timer);\n",
       "      }\n",
       "      attempts++;\n",
       "      if (attempts > 100) {\n",
       "        console.log(\"Bokeh: ERROR: Unable to run BokehJS code because BokehJS library is missing\")\n",
       "        clearInterval(timer);\n",
       "      }\n",
       "    }, 10, root)\n",
       "  }\n",
       "})(window);"
      ],
      "application/vnd.bokehjs_exec.v0+json": ""
     },
     "metadata": {
      "application/vnd.bokehjs_exec.v0+json": {
       "id": "47e583e6-e80b-4a5a-929e-e3def0b98b11"
      }
     },
     "output_type": "display_data"
    }
   ],
   "source": [
    "source = ColumnDataSource(data=df_year)\n",
    "\n",
    "hover = HoverTool(tooltips=[('Year','@Date')])\n",
    "\n",
    "plot=figure(x_axis_label='Total distance (km)',y_axis_label='Average distance per stage (km)')\n",
    "plot.circle(x='Distance',y='ave_distance',source=source,size=5)\n",
    "plot.add_tools(hover)\n",
    "show(plot)"
   ]
  },
  {
   "cell_type": "code",
   "execution_count": 123,
   "metadata": {},
   "outputs": [
    {
     "data": {
      "text/html": [
       "\n",
       "<div class=\"bk-root\">\n",
       "    <div class=\"bk-plotdiv\" id=\"b14bc43f-deb2-4190-91ac-4ff0af06a6c2\"></div>\n",
       "</div>"
      ]
     },
     "metadata": {},
     "output_type": "display_data"
    },
    {
     "data": {
      "application/javascript": [
       "(function(root) {\n",
       "  function embed_document(root) {\n",
       "    \n",
       "  var docs_json = {\"1ebf0adb-70e1-4972-a768-ed35a8e7947c\":{\"roots\":{\"references\":[{\"attributes\":{\"active_drag\":\"auto\",\"active_inspect\":\"auto\",\"active_scroll\":\"auto\",\"active_tap\":\"auto\",\"tools\":[{\"id\":\"541374ae-e3a8-474e-93af-0a4c6b563edd\",\"type\":\"PanTool\"},{\"id\":\"020c6f61-71e8-48cc-beb6-67766a15d91e\",\"type\":\"WheelZoomTool\"},{\"id\":\"7e592c31-61d5-435d-b5c4-b46a12af32b3\",\"type\":\"BoxZoomTool\"},{\"id\":\"0a75e090-17bb-474c-ac61-eccced2c0ec6\",\"type\":\"SaveTool\"},{\"id\":\"d92aa2bb-1303-492b-a921-e7e28dc40a57\",\"type\":\"ResetTool\"},{\"id\":\"b5531a29-6e92-4cd0-bc1e-06834a0ca39e\",\"type\":\"HelpTool\"},{\"id\":\"3085fb9c-9ddb-451a-8244-edd639dedc04\",\"type\":\"HoverTool\"}]},\"id\":\"dfc9c49a-5a87-477e-a3c0-178f8b69b33f\",\"type\":\"Toolbar\"},{\"attributes\":{\"below\":[{\"id\":\"e74e3c9e-92bb-489f-9318-edc7b1a40d0b\",\"type\":\"LinearAxis\"}],\"left\":[{\"id\":\"3970a5b5-246c-4230-af6c-86260d22b2f5\",\"type\":\"LinearAxis\"}],\"plot_height\":500,\"plot_width\":900,\"renderers\":[{\"id\":\"e74e3c9e-92bb-489f-9318-edc7b1a40d0b\",\"type\":\"LinearAxis\"},{\"id\":\"ddd4b5f0-4007-4a39-bdf6-e08fa5c65a1e\",\"type\":\"Grid\"},{\"id\":\"3970a5b5-246c-4230-af6c-86260d22b2f5\",\"type\":\"LinearAxis\"},{\"id\":\"21eb2788-57b5-4b40-a8e2-81ea1c2d9083\",\"type\":\"Grid\"},{\"id\":\"79516165-24e1-40e5-9fca-55aa89c07533\",\"type\":\"BoxAnnotation\"},{\"id\":\"d84967f5-3054-4769-a356-72c08926d689\",\"type\":\"GlyphRenderer\"},{\"id\":\"7fc7ceee-d671-4933-bf34-24d9e96a5914\",\"type\":\"GlyphRenderer\"}],\"title\":{\"id\":\"f40d387c-ac07-415d-a171-b20f01526d52\",\"type\":\"Title\"},\"toolbar\":{\"id\":\"dfc9c49a-5a87-477e-a3c0-178f8b69b33f\",\"type\":\"Toolbar\"},\"x_range\":{\"id\":\"b1445c24-eae9-4d11-bed2-9d32c68a31ab\",\"type\":\"DataRange1d\"},\"x_scale\":{\"id\":\"884c2eb0-25bf-4294-9838-054a2d966e9b\",\"type\":\"LinearScale\"},\"y_range\":{\"id\":\"3b412530-f512-4e88-b9f5-512597a2079a\",\"type\":\"DataRange1d\"},\"y_scale\":{\"id\":\"26043fb8-eb7d-4294-bf61-81dc23b1c8a9\",\"type\":\"LinearScale\"}},\"id\":\"8a9c08f6-0f50-4e52-af6a-7afaf04feb49\",\"subtype\":\"Figure\",\"type\":\"Plot\"},{\"attributes\":{},\"id\":\"0a4fc8de-2b0c-47fb-92ad-ffe378e5264d\",\"type\":\"BasicTicker\"},{\"attributes\":{},\"id\":\"0a75e090-17bb-474c-ac61-eccced2c0ec6\",\"type\":\"SaveTool\"},{\"attributes\":{},\"id\":\"541374ae-e3a8-474e-93af-0a4c6b563edd\",\"type\":\"PanTool\"},{\"attributes\":{},\"id\":\"020c6f61-71e8-48cc-beb6-67766a15d91e\",\"type\":\"WheelZoomTool\"},{\"attributes\":{\"callback\":null,\"data\":{\"Date\":[1903,1904,1905,1906,1907,1908,1909,1910,1911,1912,1913,1914,1919,1920,1921,1922,1923,1924,1925,1926,1927,1928,1929,1930,1931,1932,1933,1934,1935,1936,1937,1938,1939,1947,1948,1949,1950,1951,1952,1953,1954,1955,1956,1957,1958,1959,1960,1961,1962,1963,1964,1965,1966,1967,1968,1969,1970,1971,1972,1973,1974,1975,1976,1977,1978,1979,1980,1981,1982,1983,1984,1985,1986,1987,1988,1989,1990,1991,1992,1993,1994,1995,1996,1997,1998,1999,2000,2001,2002,2003,2004,2005,2006,2007,2008,2009,2010,2011,2012,2013,2014,2015,2016,2017,2018],\"Distance\":{\"__ndarray__\":\"AAAAAAD4okAAAAAAAPqiQAAAAAAAmqdAAAAAAAC/sUAAAAAAAIixQAAAAAAAkbFAAAAAAACRsUAAAAAAAH6yQAAAAAAA4LRAAAAAAADHtEAAAAAAAAy1QAAAAAAADLVAAAAAAAC4tUAAAAAAAH+1QAAAAAAAbbVAAAAAAAD9tEAAAAAAABS1QAAAAAAAMbVAAAAAAAA2tUAAAAAAAHG2QAAAAAAAjLRAAAAAAAAAtUAAAAAAAIq0QAAAAAAA0rJAAAAAAADns0AAAAAAAKixQAAAAAAALLFAAAAAAAASsUAAAAAAAPGwQAAAAAAAVrFAAAAAAABAsUAAAAAAAEmyQAAAAAAAgbBAAAAAAAAWskAAAAAAADqzQAAAAAAAyrJAAAAAAACmskAAAAAAAFSyQAAAAAAA27JAAAAAAAB/sUBmZmZmZgGzQJqZmZkZfLFAmpmZmRmvsUDNzMzMzEuyQAAAAAAA37BAAAAAAAD/sEDNzMzMzEuwQAAAAACALbFAAAAAAICxsEAAAAAAAC6wQAAAAAAAhLFAzczMzMzZr0AAAAAAAOewQAAAAABgrLJAzczMzMxMskAAAAAAABawQM3MzMzMELFAZ2ZmZmYBrEA0MzMzMw2uQDQzMzMzNrBAAAAAAAAKsEAAAAAAAD6vQAAAAAAAbq9AAAAAAAAFsEAAAAAAANyvQAAAAAAAEK1AAAAAAADWrkAAAAAAAF6tQAAAAAAAAqxAAAAAAAAorkAAAAAAAGqvQAAAAAAAC7BAzMzMzMz6r0AAAAAAAFawQAAAAAAAjKlAmpmZmZmqqUCamZmZmZeqQM3MzMzMlK5AAAAAAAAOr0CamZmZmQStQGZmZmZmFa9AmpmZmZm2q0DNzMzMzGmtQJqZmZmZz65AMzMzMzNKrkCamZmZmdWsQAAAAAAAnaxAZmZmZmb+qkAAAAAAAJupQAAAAAAAx6pAMzMzMzN+qkAAAAAAABGsQDMzMzMzkqxAzczMzMzjq0AAAAAAAM+rQAAAAAAAB6tAzczMzMxzrEAAAAAAAMyqQM3MzMzMUatAAAAAAACXqkAAAAAAAJmsQJqZmZmZQKpAAAAAAACSq0AAAAAAAKirQAAAAAAALqpA\",\"dtype\":\"float64\",\"shape\":[105]},\"Type_clean_Flat\":{\"__ndarray__\":\"BQUJCwoKCgkICAgICQoKCgoJDA0DAg0PDw0MDg0OEhUSDg0ODgwMDQ4ODQ4ODAwLEA0ODA4NEAoPCwoLDw0JDA4MDg0LCgoLEAwLCgoMCgwLCQgLDAsLDAoKCggKCQoKCgoJCAkHCQgI\",\"dtype\":\"uint8\",\"shape\":[105]},\"Type_clean_Hilly\":{\"__ndarray__\":\"AAAAAAAAAAAAAAAAAAAAAAAAAAAAAAAAAAAAAAAAAAAAAAAAAAAAAAAAAAAAAAAAAAAAAAAAAAAAAAMAAAAAAAMBAQIBBAQDAAMDAQMDBgABAwcDAgMCAQIAAwUDAwABAwMEAwUFAwYF\",\"dtype\":\"uint8\",\"shape\":[105]},\"Type_clean_ITT\":{\"__ndarray__\":\"AAAAAAAAAAAAAAAAAAAAAAAAAAAAAAAAAAAAAQYFAQIFAQECAgICAQEBAgIDAwICAwIDAwICAgQFAgMEAwQEBQQFBAQEBQQEAwQEBAQDAwMDAwMDAwMCAwMDAwIDAwICAgEDAgEBAgIB\",\"dtype\":\"uint8\",\"shape\":[105]},\"Type_clean_Mountain\":{\"__ndarray__\":\"AQECAgQEBAYHBwcHBgUFBQUGBgQFBQYGCQgLCQgICQYFBgcFBgoJCAkHCAcHBwgJBAcHCAgJBwsICwgLCAgICgMFBAQFAwUFBAYEBgQEAgUGBQQFBQQFBAUHBAUFBgUHBgYFBwYHBwUG\",\"dtype\":\"uint8\",\"shape\":[105]},\"Type_clean_Other\":{\"__ndarray__\":\"AAAAAAAAAAAAAAAAAAAAAAAAAAAAAAAAAAAAAAAAAAAAAAAAAAAAAAAAAAAAAAAAAAAAAAAAAAAAAAAAAAAFAAAAAAAAAAAAAAAAAAAAAAAAAAAAAAAAAAAAAAAAAAQAAAAAAAAAAAAA\",\"dtype\":\"uint8\",\"shape\":[105]},\"Type_clean_TTT\":{\"__ndarray__\":\"AAAAAAAAAAAAAAAAAAAAAAAAAAAQDwMAAAAAAAAAAwAAAAAAAAAAAAEBAAEAAAAAAQEBAQEBAQEBAQEBAQABAQECAgICAQEBAQEBAQEBAQEBAQAAAAABAQEBAQEAAAABAAEAAQABAAAB\",\"dtype\":\"uint8\",\"shape\":[105]},\"Winner_Country_\":{\"__ndarray__\":\"AAAAAAAAAAAAAAAAAAAAAAAAAAAAAAAAAAAAAAAAAAAAAAAAAAAAAAEBAAEAAAAAAQEBAQEBAQEBAQEBAQABAgICAgICAQEBAQEBAQEBAQEBAgAAAQABAQEAAAEAAAABAAEAAQABAAAB\",\"dtype\":\"uint8\",\"shape\":[105]},\"Winner_Country_ FRA\":{\"__ndarray__\":\"AAAAAAEAAAAAAAAAAAAAAAAAAAAAAAAAAAAAAAAAAAAAAAAAAAAAAAAAAAAAAAAAAAAAAAAAAAAAAAAAAAAAAAAAAAAAAAAAAAAAAAAAAAAAAAAAAAAAAAAAAAAAAAAAAAAAAAAAAAAA\",\"dtype\":\"uint8\",\"shape\":[105]},\"Winner_Country_AUS\":{\"__ndarray__\":\"AAAAAAAAAAAAAAAAAAAAAAAAAAAAAAAAAAAAAAAAAAAAAAAAAAAAAAAAAAAAAAAAAAAAAAAAAAAAAAAAAAAAAAAAAAABAAAAAAAAAAABAAAAAAABAQEAAAMCAwMDAgEAAAEAAQEBAQIA\",\"dtype\":\"uint8\",\"shape\":[105]},\"Winner_Country_AUT\":{\"__ndarray__\":\"AAAAAAAAAAAAAAAAAAAAAAAAAAAAAAAAAwAAAAAAAAAAAAAAAAAAAAAAAAAAAAAAAAAAAAAAAAAAAAAAAAAAAAAAAAAAAAAAAAAAAAAAAAAAAAAAAAAAAAAAAAEAAAAAAAAAAAAAAAAA\",\"dtype\":\"uint8\",\"shape\":[105]},\"Winner_Country_BEL\":{\"__ndarray__\":\"AAAAAAAAAQABBQoEAgwJCAIECAwPBAkDBgYJAQgJCgwHAgQFAgQDAQQDBAECAQQGBwoHBwgFCQ0NCg4GDgsMBQUEBQoFAwcGBQIAAQIBAgIAAQAABAQCAwAAAgIAAwEAAAIAAQABAgAA\",\"dtype\":\"uint8\",\"shape\":[105]},\"Winner_Country_BRA\":{\"__ndarray__\":\"AAAAAAAAAAAAAAAAAAAAAAAAAAAAAAAAAAAAAAAAAAAAAAAAAAAAAAAAAAAAAAAAAAAAAAAAAAAAAAAAAAAAAAAAAAAAAAAAAAAAAAABAAAAAAAAAAAAAAAAAAAAAAAAAAAAAAAAAAAA\",\"dtype\":\"uint8\",\"shape\":[105]},\"Winner_Country_CAN\":{\"__ndarray__\":\"AAAAAAAAAAAAAAAAAAAAAAAAAAAAAAAAAAAAAAAAAAAAAAAAAAAAAAAAAAAAAAAAAAAAAAAAAAAAAAAAAAAAAAAAAAAAAAAAAAABAAAAAAAAAAAAAAAAAAAAAAAAAAAAAAAAAAAAAAAA\",\"dtype\":\"uint8\",\"shape\":[105]},\"Winner_Country_COL\":{\"__ndarray__\":\"AAAAAAAAAAAAAAAAAAAAAAAAAAAAAAAAAAAAAAAAAAAAAAAAAAAAAAAAAAAAAAAAAAAAAAAAAAAAAAAAAAAAAAAAAAAAAAEDAAABAAAAAAEBAAEAAAABAQIAAAAAAQAAAAAAAQAAAQED\",\"dtype\":\"uint8\",\"shape\":[105]},\"Winner_Country_CZE\":{\"__ndarray__\":\"AAAAAAAAAAAAAAAAAAAAAAAAAAAAAAAAAAAAAAAAAAAAAAAAAAAAAAAAAAAAAAAAAAAAAAAAAAAAAAAAAAAAAAAAAAAAAAAAAAAAAAAAAAAAAAAAAQAAAQAAAAAAAAAAAAAAAAABAAAA\",\"dtype\":\"uint8\",\"shape\":[105]},\"Winner_Country_DEN\":{\"__ndarray__\":\"AAAAAAAAAAAAAAAAAAAAAAAAAAAAAAAAAAAAAAAAAAAAAAAAAAAAAAAAAAAAAAAAAAAAAAAAAAABAAAAAAAAAAAAAAAAAQABAAABAAAAAAIDAAMAAAAAAAABAAEBAgABAAAAAAAAAAAA\",\"dtype\":\"uint8\",\"shape\":[105]},\"Winner_Country_DNK\":{\"__ndarray__\":\"AAAAAAAAAAAAAAAAAAAAAAAAAAAAAAAAAAAAAAAAAAAAAAAAAAAAAAAAAAAAAAAAAAAAAAAAAAAAAAAAAAAAAAAAAAAAAAAAAAAAAAAAAAAAAAAAAAAAAAAAAAAAAAAAAAAAAAAAAAAB\",\"dtype\":\"uint8\",\"shape\":[105]},\"Winner_Country_ESP\":{\"__ndarray__\":\"AAAAAAAAAAAAAAAAAAAAAAAAAAAAAAEAAAAAAAABAgAAAAAAAAIAAQACAgACAQEAAQIEBAICAQECBAAIAQECAQEAAAAAAQECBQQDAQMCBAICAgABAAMCAQEEAgMEAQYEAQICAAADAQAB\",\"dtype\":\"uint8\",\"shape\":[105]},\"Winner_Country_EST\":{\"__ndarray__\":\"AAAAAAAAAAAAAAAAAAAAAAAAAAAAAAAAAAAAAAAAAAAAAAAAAAAAAAAAAAAAAAAAAAAAAAAAAAAAAAAAAAAAAAAAAAAAAAAAAAAAAAAAAAAAAAAAAAEAAQEAAQAAAAAAAAAAAAAAAAAA\",\"dtype\":\"uint8\",\"shape\":[105]},\"Winner_Country_FRA\":{\"__ndarray__\":\"BQYLDQ0KBwsMCAIHCwMFBgwEAQAGDQoNCAcJFA0NCQcRDAYICQYJCg8JCBAJDAsMBwcIAgIICgMFBAcGBwMDCAcKBwYGCAsFBQcCAwMFBgEEAwQGAQACAwICAwEDAgMEBgEFAQIDAQUD\",\"dtype\":\"uint8\",\"shape\":[105]},\"Winner_Country_FRG\":{\"__ndarray__\":\"AAAAAAAAAAAAAAAAAAAAAAAAAAAAAAAAAAAAAAAAAAAAAAAAAAAAAAAAAAAAAAAAAwAAAAMBAAABAAAAAAAABgAAAAAAAAAAAAAAAAAAAAAAAAAAAAAAAAAAAAAAAAAAAAAAAAAAAAAA\",\"dtype\":\"uint8\",\"shape\":[105]},\"Winner_Country_GBR\":{\"__ndarray__\":\"AAAAAAAAAAAAAAAAAAAAAAAAAAAAAAAAAAAAAAAAAAAAAAAAAAAAAAAAAAABAQAAAAAAAQACAQIAAAADAQEAAAAAAAAAAQEAAAABAQAAAAABAQABAQABAAEBAAAAAAQGBQUHBQADBwEC\",\"dtype\":\"uint8\",\"shape\":[105]},\"Winner_Country_GDR\":{\"__ndarray__\":\"AAAAAAAAAAAAAAAAAAAAAAAAAAAAAAAAAAAAAAAAAAAAAAAAAAAAAAAAAAAAAAAAAAAAAAAAAAAAAAAAAAAAAAAAAAAAAAAAAAAAAAEAAAAAAAAAAAAAAAAAAAAAAAAAAAAAAAAAAAAA\",\"dtype\":\"uint8\",\"shape\":[105]},\"Winner_Country_GER\":{\"__ndarray__\":\"AAAAAAAAAAAAAAAAAAAAAAAAAAAAAAAAAAEAAAAAAwEAAAAAAAAAAAAAAAAAAAAAAAABAAAAAAEAAAAAAAAAAAEBAAAAAAAAAAEBAAAAAQEAAgMFBAACBAEBAAACAQEBAAIDBgcGAgUB\",\"dtype\":\"uint8\",\"shape\":[105]},\"Winner_Country_IRE\":{\"__ndarray__\":\"AAAAAAAAAAAAAAAAAAAAAAAAAAAAAAAAAAAAAAAAAAAAAAAAAAAAAAAAAAAAAAAAAAAAAAAAAAAAAAAAAAAAAAEAAgEBAAABAAEAAQAAAQAAAAAAAAAAAAAAAAAAAAAAAAAAAAAAAAAA\",\"dtype\":\"uint8\",\"shape\":[105]},\"Winner_Country_IRL\":{\"__ndarray__\":\"AAAAAAAAAAAAAAAAAAAAAAAAAAAAAAAAAAAAAAAAAAAAAAAAAAAAAAAAAAAAAAAAAAEAAAAAAAAAAAAAAAAAAAAAAAAAAAAAAAAAAAAAAAAAAAAAAAAAAAAAAAAAAAAAAAAAAQAAAAAB\",\"dtype\":\"uint8\",\"shape\":[105]},\"Winner_Country_ITA\":{\"__ndarray__\":\"AAAAAAAAAAEAAgEAAgABAQEFBQEAAAAFBwcFAwYAAwUABAsGBgQHAwACBgYFBAQDBAEABQQEAgMFAwEAAQQDAQABAAAAAQAAAwAEAgUFAwMEBQMHBgcFAAEFAgMBAwAAAgAAAQUBAAEA\",\"dtype\":\"uint8\",\"shape\":[105]},\"Winner_Country_KAZ\":{\"__ndarray__\":\"AAAAAAAAAAAAAAAAAAAAAAAAAAAAAAAAAAAAAAAAAAAAAAAAAAAAAAAAAAAAAAAAAAAAAAAAAAAAAAAAAAAAAAAAAAAAAAAAAAAAAAAAAAAAAAAAAAAAAAABAAIAAAAAAQAAAAAAAAAA\",\"dtype\":\"uint8\",\"shape\":[105]},\"Winner_Country_LAT\":{\"__ndarray__\":\"AAAAAAAAAAAAAAAAAAAAAAAAAAAAAAAAAAAAAAAAAAAAAAAAAAAAAAAAAAAAAAAAAAAAAAAAAAAAAAAAAAAAAAAAAAAAAAAAAAAAAAAAAAACAAAAAAAAAAAAAAAAAAAAAAAAAAAAAAAA\",\"dtype\":\"uint8\",\"shape\":[105]},\"Winner_Country_LTU\":{\"__ndarray__\":\"AAAAAAAAAAAAAAAAAAAAAAAAAAAAAAAAAAAAAAAAAAAAAAAAAAAAAAAAAAAAAAAAAAAAAAAAAAAAAAAAAAAAAAAAAAAAAAAAAAAAAAAAAAAAAAAAAAAAAAAAAAAAAAAAAAAAAAEAAAAA\",\"dtype\":\"uint8\",\"shape\":[105]},\"Winner_Country_LUX\":{\"__ndarray__\":\"AAAAAAAEBgMCAAICAAAAAAACBAQDBQIAAAAAAAACAQECAAABAgEBAAADAwAEAQABAAAAAAEAAAAAAAAAAAAAAAAAAAAAAAAAAAAAAAAAAAAAAAAAAAAAAAAAAAABAQEBAgEAAAAAAAAA\",\"dtype\":\"uint8\",\"shape\":[105]},\"Winner_Country_MEX\":{\"__ndarray__\":\"AAAAAAAAAAAAAAAAAAAAAAAAAAAAAAAAAAAAAAAAAAAAAAAAAAAAAAAAAAAAAAAAAAAAAAAAAAAAAAAAAAAAAAAAAAAAAAAAAAAAAQEAAAAAAAAAAAAAAAAAAAAAAAAAAAAAAAAAAAAA\",\"dtype\":\"uint8\",\"shape\":[105]},\"Winner_Country_NED\":{\"__ndarray__\":\"AAAAAAAAAAAAAAAAAAAAAAAAAAAAAAAAAAAAAAABAAMBAAAAAAECBQMDAAABAAAAAQEEBAQBAgABAwICAgUGBQgGCQUFBQEEAQYHBgUCAgABAQMBAgAEAQIBAAEAAAAAAAAAAAEAAgID\",\"dtype\":\"uint8\",\"shape\":[105]},\"Winner_Country_NOR\":{\"__ndarray__\":\"AAAAAAAAAAAAAAAAAAAAAAAAAAAAAAAAAAAAAAAAAAAAAAAAAAAAAAAAAAAAAAAAAAAAAAAAAAAAAAAAAAAAAAAAAAAAAAAAAAEAAAAAAAAAAAAAAAAAAAEAAQACAQIBAQQAAAIAAAEB\",\"dtype\":\"uint8\",\"shape\":[105]},\"Winner_Country_POL\":{\"__ndarray__\":\"AAAAAAAAAAAAAAAAAAAAAAAAAAAAAAAAAAAAAAAAAAAAAAAAAAAAAAAAAAAAAAAAAAAAAAAAAAAAAAAAAAAAAAAAAAAAAAAAAAAAAAAAAAEAAAAAAAAAAAAAAAAAAAAAAAAAAAIBAAEA\",\"dtype\":\"uint8\",\"shape\":[105]},\"Winner_Country_POR\":{\"__ndarray__\":\"AAAAAAAAAAAAAAAAAAAAAAAAAAAAAAAAAAAAAAAAAAAAAAAAAAAAAAAAAAAAAAAAAAAAAAAAAAIAAAABAAAAAAABAAAAAAEAAAEBAQAAAAAAAAAAAAAAAAAAAAAAAAAAAQEAAgAAAAAA\",\"dtype\":\"uint8\",\"shape\":[105]},\"Winner_Country_RSA\":{\"__ndarray__\":\"AAAAAAAAAAAAAAAAAAAAAAAAAAAAAAAAAAAAAAAAAAAAAAAAAAAAAAAAAAAAAAAAAAAAAAAAAAAAAAAAAAAAAAAAAAAAAAAAAAAAAAAAAAAAAAAAAAAAAAAAAAAAAQAAAAAAAAAAAAAA\",\"dtype\":\"uint8\",\"shape\":[105]},\"Winner_Country_RUS\":{\"__ndarray__\":\"AAAAAAAAAAAAAAAAAAAAAAAAAAAAAAAAAAAAAAAAAAAAAAAAAAAAAAAAAAAAAAAAAAAAAAAAAAAAAAAAAAAAAAAAAAAAAAAAAAAAAAAAAAAAAAEAAAEAAQAAAAABAAEBAAAAAAAAAQAA\",\"dtype\":\"uint8\",\"shape\":[105]},\"Winner_Country_SLO\":{\"__ndarray__\":\"AAAAAAAAAAAAAAAAAAAAAAAAAAAAAAAAAAAAAAAAAAAAAAAAAAAAAAAAAAAAAAAAAAAAAAAAAAAAAAAAAAAAAAAAAAAAAAAAAAAAAAAAAAAAAAAAAAAAAAAAAAAAAAAAAAAAAAAAAAEB\",\"dtype\":\"uint8\",\"shape\":[105]},\"Winner_Country_SUI\":{\"__ndarray__\":\"AQAAAAAAAAAAAAACAAAAAAAAAAAAAAAAAAAAAAABAwABAwABAwYBAgIAAAAAAgIAAAAAAAABAAAAAAAAAAAAAAAAAAEDAgAAAgAAAQAAAQMAAQMAAAAAAAEAAQAAAgEBAgABAAAAAAAA\",\"dtype\":\"uint8\",\"shape\":[105]},\"Winner_Country_SVK\":{\"__ndarray__\":\"AAAAAAAAAAAAAAAAAAAAAAAAAAAAAAAAAAAAAAAAAAAAAAAAAAAAAAAAAAAAAAAAAAAAAAAAAAAAAAAAAAAAAAAAAAAAAAAAAAAAAAAAAAABAAAAAAAAAAAAAAAAAAAAAAADAQAAAwED\",\"dtype\":\"uint8\",\"shape\":[105]},\"Winner_Country_SWE\":{\"__ndarray__\":\"AAAAAAAAAAAAAAAAAAAAAAAAAAAAAAAAAAAAAAAAAAAAAAAAAAAAAAAAAAAAAAAAAAAAAAAAAAAAAAAAAAAAAAAAAAAAAAAAAAAAAAAAAAAAAAAAAQAAAAAAAAAAAAAAAAAAAAAAAAAA\",\"dtype\":\"uint8\",\"shape\":[105]},\"Winner_Country_UKR\":{\"__ndarray__\":\"AAAAAAAAAAAAAAAAAAAAAAAAAAAAAAAAAAAAAAAAAAAAAAAAAAAAAAAAAAAAAAAAAAAAAAAAAAAAAAAAAAAAAAAAAAAAAAAAAAAAAAAAAAAAAQAAAAAAAAAAAAADAAAAAAAAAAAAAAAA\",\"dtype\":\"uint8\",\"shape\":[105]},\"Winner_Country_URS\":{\"__ndarray__\":\"AAAAAAAAAAAAAAAAAAAAAAAAAAAAAAAAAAAAAAAAAAAAAAAAAAAAAAAAAAAAAAAAAAAAAAAAAAAAAAAAAAAAAAAAAAAAAAAAAAAAAAEFAAAAAAAAAAAAAAAAAAAAAAAAAAAAAAAAAAAA\",\"dtype\":\"uint8\",\"shape\":[105]},\"Winner_Country_USA\":{\"__ndarray__\":\"AAAAAAAAAAAAAAAAAAAAAAAAAAAAAAAAAAAAAAAAAAAAAAAAAAAAAAAAAAAAAAAAAAAAAAAAAAAAAAAAAAAAAAAAAAAAAAABAgIAAwAAAQEAAQAAAAQBBAQDBgMAAQAAAAEAAAAAAAAA\",\"dtype\":\"uint8\",\"shape\":[105]},\"Winner_Country_UZB\":{\"__ndarray__\":\"AAAAAAAAAAAAAAAAAAAAAAAAAAAAAAAAAAAAAAAAAAAAAAAAAAAAAAAAAAAAAAAAAAAAAAAAAAAAAAAAAAAAAAAAAAAAAAAAAAAAAAAAAAMCAQEAAAAAAAAAAAAAAAAAAAAAAAAAAAAA\",\"dtype\":\"uint8\",\"shape\":[105]},\"ave_distance\":{\"__ndarray__\":\"q6qqqqpKeUBVVVVVVU15QLrooosuKnFAdmIndmLXdUCSJEmSJAl0QLdt27ZtE3RAt23btm0TdECamZmZmblzQERERERERHZAmpmZmZkpdkAzMzMzM3N2QDMzMzMzc3ZAq6qqqqoqd0De3d3d3e12QKuqqqqq2nZAMzMzMzNjdkC8u7u7u3t2QKuqqqqqmnZAq6qqqqrackAPDw8PDx91QFVVVVVVZWtAjC666KKLbkAAAAAAAOBtQNu2bdu2rWxAVVVVVVWJakB6nud5nudqQBaykIUs5GdAq6qqqqrCZkBCewntJRRkQL6E9hLai2RAzjnnnHPOYUDd0wjLPS1kQEmSJEmS3GJA9DzP8zyPa0DDMAzDMExtQBiGYRiGoWxAAAAAAAAga0AAAAAAAHBoQOpNb3rTO2pAo4suuuhyaUDAyqFFtlNoQANFWw2eU2hAfRj365KaaEAREREREWVoQKuqqqqqfmZA6aKLLrq4aEDkKUGeErRnQHTRRRdd/GhAAAAAAABCZkBkIQtZyIJmQOxRuB6Fa2ZA3t3d3d07ZUDD9Shcj6JlQHsUrkfh5mdAX+iFXuiFZkDFTuzETsxjQOtLBa2+1GJAI9v5fmrsYUDP91PjpTtjQG3BFmzBNmNAJrSX0F4CY0AfhetRuP5jQAAAAAAAoGJAbtu2bdtOYkCkcD0K12NkQJqZmZmZmWJAXI/C9Si8Y0DsUbgehctiQOpNb3rTe2NAOL3pTW/6ZEBVVVVVVfFkQAAAAAAAZGVA3d3d3d1RZUCxEzuxExtkQMhCFrKQxWFAE+QpQZ6qYkCHtW9Y+1ZjQN2vSyofRmVARhdddNGVZkC+4iu+4htmQDMzMzMzm2ZA12iN1mgdZUCsfcPaN2RlQFn7hrVvaGZA37D2DWsHZkCCEziBE/hlQM/zPM/zzGVAERERERGRZEAlSZIkSYJjQG7btm3bZmRA9mM/9mMvZEAlSZIkSWJlQEu5lEu5xGVA/tiP/dg/ZUAAAAAAADBlQHqe53mel2RA2Y/92I+tZUCrqqqqqmpkQAqcwAmc0GRAJUmSJElCZECe53me58llQAh1UAd1AGRAGIZhGIYBZUAlSZIkSRJlQCVJkiRJ8mNA\",\"dtype\":\"float64\",\"shape\":[105]},\"num_stages\":[6,6,11,13,14,14,14,15,15,15,15,15,15,15,15,15,15,15,18,17,24,22,22,21,24,21,23,24,27,27,31,29,28,21,21,21,22,24,23,22,25,23,23,24,24,22,22,22,24,23,25,24,25,25,26,26,29,25,25,27,27,25,27,28,25,25,25,25,23,23,24,24,24,26,23,22,22,23,22,21,22,21,22,22,22,21,21,21,21,21,21,21,21,21,21,21,21,21,21,21,21,21,21,21,21]},\"selected\":{\"id\":\"01aa3080-b983-4aa4-95b0-1757b7b4712d\",\"type\":\"Selection\"},\"selection_policy\":{\"id\":\"a79d2f4d-bc3b-4313-94eb-23a4a40704db\",\"type\":\"UnionRenderers\"}},\"id\":\"83d79469-e913-46ea-be37-6fc898764386\",\"type\":\"ColumnDataSource\"},{\"attributes\":{\"data_source\":{\"id\":\"83d79469-e913-46ea-be37-6fc898764386\",\"type\":\"ColumnDataSource\"},\"glyph\":{\"id\":\"8e7cedf3-18df-4e02-b477-56a35215e3fd\",\"type\":\"Circle\"},\"hover_glyph\":null,\"muted_glyph\":null,\"nonselection_glyph\":{\"id\":\"3d60dafd-f79f-42de-8df6-4897e0968d0a\",\"type\":\"Circle\"},\"selection_glyph\":null,\"view\":{\"id\":\"18e3bb5d-f3e2-43f3-850c-b06ef0f5b2d8\",\"type\":\"CDSView\"}},\"id\":\"7fc7ceee-d671-4933-bf34-24d9e96a5914\",\"type\":\"GlyphRenderer\"},{\"attributes\":{},\"id\":\"d92aa2bb-1303-492b-a921-e7e28dc40a57\",\"type\":\"ResetTool\"},{\"attributes\":{},\"id\":\"884c2eb0-25bf-4294-9838-054a2d966e9b\",\"type\":\"LinearScale\"},{\"attributes\":{\"axis_label\":\"Number of French winners\",\"formatter\":{\"id\":\"f62bd445-273c-4fcd-9df2-fe60976f246a\",\"type\":\"BasicTickFormatter\"},\"plot\":{\"id\":\"8a9c08f6-0f50-4e52-af6a-7afaf04feb49\",\"subtype\":\"Figure\",\"type\":\"Plot\"},\"ticker\":{\"id\":\"0a4fc8de-2b0c-47fb-92ad-ffe378e5264d\",\"type\":\"BasicTicker\"}},\"id\":\"3970a5b5-246c-4230-af6c-86260d22b2f5\",\"type\":\"LinearAxis\"},{\"attributes\":{\"line_alpha\":0.1,\"line_color\":\"#1f77b4\",\"line_width\":3,\"x\":{\"field\":\"Date\"},\"y\":{\"field\":\"Winner_Country_FRA\"}},\"id\":\"004645b0-3421-43eb-8124-3fb2b87dfcb4\",\"type\":\"Line\"},{\"attributes\":{\"overlay\":{\"id\":\"79516165-24e1-40e5-9fca-55aa89c07533\",\"type\":\"BoxAnnotation\"}},\"id\":\"7e592c31-61d5-435d-b5c4-b46a12af32b3\",\"type\":\"BoxZoomTool\"},{\"attributes\":{},\"id\":\"01aa3080-b983-4aa4-95b0-1757b7b4712d\",\"type\":\"Selection\"},{\"attributes\":{\"fill_alpha\":{\"value\":0.1},\"fill_color\":{\"value\":\"#1f77b4\"},\"line_alpha\":{\"value\":0.1},\"line_color\":{\"value\":\"#1f77b4\"},\"size\":{\"units\":\"screen\",\"value\":5},\"x\":{\"field\":\"Date\"},\"y\":{\"field\":\"Winner_Country_FRA\"}},\"id\":\"3d60dafd-f79f-42de-8df6-4897e0968d0a\",\"type\":\"Circle\"},{\"attributes\":{\"plot\":null,\"text\":\"\"},\"id\":\"f40d387c-ac07-415d-a171-b20f01526d52\",\"type\":\"Title\"},{\"attributes\":{\"callback\":null,\"renderers\":\"auto\",\"tooltips\":[[\"Year\",\"@Date\"]]},\"id\":\"3085fb9c-9ddb-451a-8244-edd639dedc04\",\"type\":\"HoverTool\"},{\"attributes\":{\"callback\":null},\"id\":\"b1445c24-eae9-4d11-bed2-9d32c68a31ab\",\"type\":\"DataRange1d\"},{\"attributes\":{\"fill_color\":{\"value\":\"#1f77b4\"},\"line_color\":{\"value\":\"#1f77b4\"},\"size\":{\"units\":\"screen\",\"value\":5},\"x\":{\"field\":\"Date\"},\"y\":{\"field\":\"Winner_Country_FRA\"}},\"id\":\"8e7cedf3-18df-4e02-b477-56a35215e3fd\",\"type\":\"Circle\"},{\"attributes\":{\"axis_label\":\"Year\",\"formatter\":{\"id\":\"4233e35e-a1fe-46f2-ab97-e72e5e57fb47\",\"type\":\"BasicTickFormatter\"},\"plot\":{\"id\":\"8a9c08f6-0f50-4e52-af6a-7afaf04feb49\",\"subtype\":\"Figure\",\"type\":\"Plot\"},\"ticker\":{\"id\":\"531f5b80-bca0-40a6-8ff9-cd3d9534a16f\",\"type\":\"BasicTicker\"}},\"id\":\"e74e3c9e-92bb-489f-9318-edc7b1a40d0b\",\"type\":\"LinearAxis\"},{\"attributes\":{\"source\":{\"id\":\"83d79469-e913-46ea-be37-6fc898764386\",\"type\":\"ColumnDataSource\"}},\"id\":\"4dfad25b-24a4-4b39-9aa3-f5d00b85a770\",\"type\":\"CDSView\"},{\"attributes\":{},\"id\":\"26043fb8-eb7d-4294-bf61-81dc23b1c8a9\",\"type\":\"LinearScale\"},{\"attributes\":{\"source\":{\"id\":\"83d79469-e913-46ea-be37-6fc898764386\",\"type\":\"ColumnDataSource\"}},\"id\":\"18e3bb5d-f3e2-43f3-850c-b06ef0f5b2d8\",\"type\":\"CDSView\"},{\"attributes\":{\"plot\":{\"id\":\"8a9c08f6-0f50-4e52-af6a-7afaf04feb49\",\"subtype\":\"Figure\",\"type\":\"Plot\"},\"ticker\":{\"id\":\"531f5b80-bca0-40a6-8ff9-cd3d9534a16f\",\"type\":\"BasicTicker\"}},\"id\":\"ddd4b5f0-4007-4a39-bdf6-e08fa5c65a1e\",\"type\":\"Grid\"},{\"attributes\":{},\"id\":\"4233e35e-a1fe-46f2-ab97-e72e5e57fb47\",\"type\":\"BasicTickFormatter\"},{\"attributes\":{\"line_alpha\":0.6,\"line_color\":\"#1f77b4\",\"line_width\":3,\"x\":{\"field\":\"Date\"},\"y\":{\"field\":\"Winner_Country_FRA\"}},\"id\":\"b811641a-a0c0-4b63-b1f7-d9edfa401d86\",\"type\":\"Line\"},{\"attributes\":{\"callback\":null},\"id\":\"3b412530-f512-4e88-b9f5-512597a2079a\",\"type\":\"DataRange1d\"},{\"attributes\":{\"dimension\":1,\"plot\":{\"id\":\"8a9c08f6-0f50-4e52-af6a-7afaf04feb49\",\"subtype\":\"Figure\",\"type\":\"Plot\"},\"ticker\":{\"id\":\"0a4fc8de-2b0c-47fb-92ad-ffe378e5264d\",\"type\":\"BasicTicker\"}},\"id\":\"21eb2788-57b5-4b40-a8e2-81ea1c2d9083\",\"type\":\"Grid\"},{\"attributes\":{},\"id\":\"531f5b80-bca0-40a6-8ff9-cd3d9534a16f\",\"type\":\"BasicTicker\"},{\"attributes\":{\"data_source\":{\"id\":\"83d79469-e913-46ea-be37-6fc898764386\",\"type\":\"ColumnDataSource\"},\"glyph\":{\"id\":\"b811641a-a0c0-4b63-b1f7-d9edfa401d86\",\"type\":\"Line\"},\"hover_glyph\":null,\"muted_glyph\":null,\"nonselection_glyph\":{\"id\":\"004645b0-3421-43eb-8124-3fb2b87dfcb4\",\"type\":\"Line\"},\"selection_glyph\":null,\"view\":{\"id\":\"4dfad25b-24a4-4b39-9aa3-f5d00b85a770\",\"type\":\"CDSView\"}},\"id\":\"d84967f5-3054-4769-a356-72c08926d689\",\"type\":\"GlyphRenderer\"},{\"attributes\":{\"bottom_units\":\"screen\",\"fill_alpha\":{\"value\":0.5},\"fill_color\":{\"value\":\"lightgrey\"},\"left_units\":\"screen\",\"level\":\"overlay\",\"line_alpha\":{\"value\":1.0},\"line_color\":{\"value\":\"black\"},\"line_dash\":[4,4],\"line_width\":{\"value\":2},\"plot\":null,\"render_mode\":\"css\",\"right_units\":\"screen\",\"top_units\":\"screen\"},\"id\":\"79516165-24e1-40e5-9fca-55aa89c07533\",\"type\":\"BoxAnnotation\"},{\"attributes\":{},\"id\":\"f62bd445-273c-4fcd-9df2-fe60976f246a\",\"type\":\"BasicTickFormatter\"},{\"attributes\":{},\"id\":\"b5531a29-6e92-4cd0-bc1e-06834a0ca39e\",\"type\":\"HelpTool\"},{\"attributes\":{},\"id\":\"a79d2f4d-bc3b-4313-94eb-23a4a40704db\",\"type\":\"UnionRenderers\"}],\"root_ids\":[\"8a9c08f6-0f50-4e52-af6a-7afaf04feb49\"]},\"title\":\"Bokeh Application\",\"version\":\"0.12.16\"}};\n",
       "  var render_items = [{\"docid\":\"1ebf0adb-70e1-4972-a768-ed35a8e7947c\",\"elementid\":\"b14bc43f-deb2-4190-91ac-4ff0af06a6c2\",\"modelid\":\"8a9c08f6-0f50-4e52-af6a-7afaf04feb49\"}];\n",
       "  root.Bokeh.embed.embed_items_notebook(docs_json, render_items);\n",
       "\n",
       "  }\n",
       "  if (root.Bokeh !== undefined) {\n",
       "    embed_document(root);\n",
       "  } else {\n",
       "    var attempts = 0;\n",
       "    var timer = setInterval(function(root) {\n",
       "      if (root.Bokeh !== undefined) {\n",
       "        embed_document(root);\n",
       "        clearInterval(timer);\n",
       "      }\n",
       "      attempts++;\n",
       "      if (attempts > 100) {\n",
       "        console.log(\"Bokeh: ERROR: Unable to run BokehJS code because BokehJS library is missing\")\n",
       "        clearInterval(timer);\n",
       "      }\n",
       "    }, 10, root)\n",
       "  }\n",
       "})(window);"
      ],
      "application/vnd.bokehjs_exec.v0+json": ""
     },
     "metadata": {
      "application/vnd.bokehjs_exec.v0+json": {
       "id": "8a9c08f6-0f50-4e52-af6a-7afaf04feb49"
      }
     },
     "output_type": "display_data"
    }
   ],
   "source": [
    "plot=figure(x_axis_label='Year',y_axis_label='Number of French winners',plot_width=900, plot_height=500)\n",
    "plot.line(x='Date',y='Winner_Country_FRA',source=source,line_width=3, line_alpha=0.6)\n",
    "plot.circle(x='Date',y='Winner_Country_FRA',source=source,size=5)\n",
    "plot.add_tools(hover)\n",
    "show(plot)"
   ]
  }
 ],
 "metadata": {
  "kernelspec": {
   "display_name": "Python 2",
   "language": "python",
   "name": "python2"
  },
  "language_info": {
   "codemirror_mode": {
    "name": "ipython",
    "version": 2
   },
   "file_extension": ".py",
   "mimetype": "text/x-python",
   "name": "python",
   "nbconvert_exporter": "python",
   "pygments_lexer": "ipython2",
   "version": "2.7.15"
  }
 },
 "nbformat": 4,
 "nbformat_minor": 2
}
